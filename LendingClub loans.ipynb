{
 "cells": [
  {
   "cell_type": "code",
   "execution_count": 1,
   "metadata": {},
   "outputs": [],
   "source": [
    "import pandas as pd\n",
    "import numpy as np\n",
    "import os\n",
    "import matplotlib.pyplot as plt"
   ]
  },
  {
   "cell_type": "code",
   "execution_count": 2,
   "metadata": {},
   "outputs": [
    {
     "data": {
      "text/html": [
       "<div>\n",
       "<style scoped>\n",
       "    .dataframe tbody tr th:only-of-type {\n",
       "        vertical-align: middle;\n",
       "    }\n",
       "\n",
       "    .dataframe tbody tr th {\n",
       "        vertical-align: top;\n",
       "    }\n",
       "\n",
       "    .dataframe thead th {\n",
       "        text-align: right;\n",
       "    }\n",
       "</style>\n",
       "<table border=\"1\" class=\"dataframe\">\n",
       "  <thead>\n",
       "    <tr style=\"text-align: right;\">\n",
       "      <th></th>\n",
       "      <th>id</th>\n",
       "      <th>member_id</th>\n",
       "      <th>loan_amnt</th>\n",
       "      <th>funded_amnt</th>\n",
       "      <th>funded_amnt_inv</th>\n",
       "      <th>term</th>\n",
       "      <th>int_rate</th>\n",
       "      <th>installment</th>\n",
       "      <th>grade</th>\n",
       "      <th>sub_grade</th>\n",
       "      <th>...</th>\n",
       "      <th>orig_projected_additional_accrued_interest</th>\n",
       "      <th>hardship_payoff_balance_amount</th>\n",
       "      <th>hardship_last_payment_amount</th>\n",
       "      <th>debt_settlement_flag</th>\n",
       "      <th>debt_settlement_flag_date</th>\n",
       "      <th>settlement_status</th>\n",
       "      <th>settlement_date</th>\n",
       "      <th>settlement_amount</th>\n",
       "      <th>settlement_percentage</th>\n",
       "      <th>settlement_term</th>\n",
       "    </tr>\n",
       "  </thead>\n",
       "  <tbody>\n",
       "    <tr>\n",
       "      <th>0</th>\n",
       "      <td>NaN</td>\n",
       "      <td>NaN</td>\n",
       "      <td>7000</td>\n",
       "      <td>7000</td>\n",
       "      <td>7000</td>\n",
       "      <td>36 months</td>\n",
       "      <td>13.99%</td>\n",
       "      <td>239.21</td>\n",
       "      <td>C</td>\n",
       "      <td>C4</td>\n",
       "      <td>...</td>\n",
       "      <td>NaN</td>\n",
       "      <td>NaN</td>\n",
       "      <td>NaN</td>\n",
       "      <td>N</td>\n",
       "      <td>NaN</td>\n",
       "      <td>NaN</td>\n",
       "      <td>NaN</td>\n",
       "      <td>NaN</td>\n",
       "      <td>NaN</td>\n",
       "      <td>NaN</td>\n",
       "    </tr>\n",
       "    <tr>\n",
       "      <th>1</th>\n",
       "      <td>NaN</td>\n",
       "      <td>NaN</td>\n",
       "      <td>6000</td>\n",
       "      <td>6000</td>\n",
       "      <td>6000</td>\n",
       "      <td>36 months</td>\n",
       "      <td>13.99%</td>\n",
       "      <td>205.04</td>\n",
       "      <td>C</td>\n",
       "      <td>C4</td>\n",
       "      <td>...</td>\n",
       "      <td>NaN</td>\n",
       "      <td>NaN</td>\n",
       "      <td>NaN</td>\n",
       "      <td>N</td>\n",
       "      <td>NaN</td>\n",
       "      <td>NaN</td>\n",
       "      <td>NaN</td>\n",
       "      <td>NaN</td>\n",
       "      <td>NaN</td>\n",
       "      <td>NaN</td>\n",
       "    </tr>\n",
       "    <tr>\n",
       "      <th>2</th>\n",
       "      <td>NaN</td>\n",
       "      <td>NaN</td>\n",
       "      <td>4000</td>\n",
       "      <td>4000</td>\n",
       "      <td>4000</td>\n",
       "      <td>36 months</td>\n",
       "      <td>12.29%</td>\n",
       "      <td>133.42</td>\n",
       "      <td>C</td>\n",
       "      <td>C1</td>\n",
       "      <td>...</td>\n",
       "      <td>NaN</td>\n",
       "      <td>NaN</td>\n",
       "      <td>NaN</td>\n",
       "      <td>N</td>\n",
       "      <td>NaN</td>\n",
       "      <td>NaN</td>\n",
       "      <td>NaN</td>\n",
       "      <td>NaN</td>\n",
       "      <td>NaN</td>\n",
       "      <td>NaN</td>\n",
       "    </tr>\n",
       "    <tr>\n",
       "      <th>3</th>\n",
       "      <td>NaN</td>\n",
       "      <td>NaN</td>\n",
       "      <td>12000</td>\n",
       "      <td>12000</td>\n",
       "      <td>12000</td>\n",
       "      <td>36 months</td>\n",
       "      <td>12.29%</td>\n",
       "      <td>400.24</td>\n",
       "      <td>C</td>\n",
       "      <td>C1</td>\n",
       "      <td>...</td>\n",
       "      <td>NaN</td>\n",
       "      <td>NaN</td>\n",
       "      <td>NaN</td>\n",
       "      <td>Y</td>\n",
       "      <td>Aug-2019</td>\n",
       "      <td>COMPLETE</td>\n",
       "      <td>Aug-2018</td>\n",
       "      <td>1282.0</td>\n",
       "      <td>45.01</td>\n",
       "      <td>12.0</td>\n",
       "    </tr>\n",
       "    <tr>\n",
       "      <th>4</th>\n",
       "      <td>NaN</td>\n",
       "      <td>NaN</td>\n",
       "      <td>2500</td>\n",
       "      <td>2500</td>\n",
       "      <td>2500</td>\n",
       "      <td>36 months</td>\n",
       "      <td>17.86%</td>\n",
       "      <td>90.21</td>\n",
       "      <td>D</td>\n",
       "      <td>D5</td>\n",
       "      <td>...</td>\n",
       "      <td>NaN</td>\n",
       "      <td>NaN</td>\n",
       "      <td>NaN</td>\n",
       "      <td>N</td>\n",
       "      <td>NaN</td>\n",
       "      <td>NaN</td>\n",
       "      <td>NaN</td>\n",
       "      <td>NaN</td>\n",
       "      <td>NaN</td>\n",
       "      <td>NaN</td>\n",
       "    </tr>\n",
       "  </tbody>\n",
       "</table>\n",
       "<p>5 rows × 150 columns</p>\n",
       "</div>"
      ],
      "text/plain": [
       "   id  member_id  loan_amnt  funded_amnt  funded_amnt_inv       term int_rate  \\\n",
       "0 NaN        NaN       7000         7000             7000  36 months   13.99%   \n",
       "1 NaN        NaN       6000         6000             6000  36 months   13.99%   \n",
       "2 NaN        NaN       4000         4000             4000  36 months   12.29%   \n",
       "3 NaN        NaN      12000        12000            12000  36 months   12.29%   \n",
       "4 NaN        NaN       2500         2500             2500  36 months   17.86%   \n",
       "\n",
       "   installment grade sub_grade  ...  \\\n",
       "0       239.21     C        C4  ...   \n",
       "1       205.04     C        C4  ...   \n",
       "2       133.42     C        C1  ...   \n",
       "3       400.24     C        C1  ...   \n",
       "4        90.21     D        D5  ...   \n",
       "\n",
       "  orig_projected_additional_accrued_interest hardship_payoff_balance_amount  \\\n",
       "0                                        NaN                            NaN   \n",
       "1                                        NaN                            NaN   \n",
       "2                                        NaN                            NaN   \n",
       "3                                        NaN                            NaN   \n",
       "4                                        NaN                            NaN   \n",
       "\n",
       "  hardship_last_payment_amount  debt_settlement_flag  \\\n",
       "0                          NaN                     N   \n",
       "1                          NaN                     N   \n",
       "2                          NaN                     N   \n",
       "3                          NaN                     Y   \n",
       "4                          NaN                     N   \n",
       "\n",
       "  debt_settlement_flag_date settlement_status settlement_date  \\\n",
       "0                       NaN               NaN             NaN   \n",
       "1                       NaN               NaN             NaN   \n",
       "2                       NaN               NaN             NaN   \n",
       "3                  Aug-2019          COMPLETE        Aug-2018   \n",
       "4                       NaN               NaN             NaN   \n",
       "\n",
       "  settlement_amount  settlement_percentage  settlement_term  \n",
       "0               NaN                    NaN              NaN  \n",
       "1               NaN                    NaN              NaN  \n",
       "2               NaN                    NaN              NaN  \n",
       "3            1282.0                  45.01             12.0  \n",
       "4               NaN                    NaN              NaN  \n",
       "\n",
       "[5 rows x 150 columns]"
      ]
     },
     "execution_count": 2,
     "metadata": {},
     "output_type": "execute_result"
    }
   ],
   "source": [
    "df=pd.read_csv('C:\\\\Users\\\\LILLY GRACE\\\\Desktop\\\\lcData4m.csv',na_values=[\"?\",\" \",\"\"])\n",
    "df.head()"
   ]
  },
  {
   "cell_type": "code",
   "execution_count": 3,
   "metadata": {},
   "outputs": [
    {
     "data": {
      "text/plain": [
       "id                       1.000000\n",
       "member_id                1.000000\n",
       "loan_amnt                0.000000\n",
       "funded_amnt              0.000000\n",
       "funded_amnt_inv          0.000000\n",
       "                           ...   \n",
       "settlement_status        0.976745\n",
       "settlement_date          0.976745\n",
       "settlement_amount        0.976745\n",
       "settlement_percentage    0.976745\n",
       "settlement_term          0.976745\n",
       "Length: 150, dtype: float64"
      ]
     },
     "execution_count": 3,
     "metadata": {},
     "output_type": "execute_result"
    }
   ],
   "source": [
    "df.isnull().sum()/df.shape[0]"
   ]
  },
  {
   "cell_type": "code",
   "execution_count": 4,
   "metadata": {},
   "outputs": [
    {
     "data": {
      "text/plain": [
       "150"
      ]
     },
     "execution_count": 4,
     "metadata": {},
     "output_type": "execute_result"
    }
   ],
   "source": [
    "len(df.columns)"
   ]
  },
  {
   "cell_type": "code",
   "execution_count": 5,
   "metadata": {},
   "outputs": [
    {
     "data": {
      "text/plain": [
       "Index(['id', 'member_id', 'emp_title', 'emp_length', 'url', 'desc',\n",
       "       'mths_since_last_delinq', 'mths_since_last_record', 'revol_util',\n",
       "       'last_pymnt_d', 'next_pymnt_d', 'mths_since_last_major_derog',\n",
       "       'annual_inc_joint', 'dti_joint', 'verification_status_joint',\n",
       "       'open_acc_6m', 'open_act_il', 'open_il_12m', 'open_il_24m',\n",
       "       'mths_since_rcnt_il', 'total_bal_il', 'il_util', 'open_rv_12m',\n",
       "       'open_rv_24m', 'max_bal_bc', 'all_util', 'inq_fi', 'total_cu_tl',\n",
       "       'inq_last_12m', 'bc_open_to_buy', 'bc_util', 'mo_sin_old_il_acct',\n",
       "       'mths_since_recent_bc', 'mths_since_recent_bc_dlq',\n",
       "       'mths_since_recent_inq', 'mths_since_recent_revol_delinq',\n",
       "       'num_tl_120dpd_2m', 'percent_bc_gt_75', 'revol_bal_joint',\n",
       "       'sec_app_fico_range_low', 'sec_app_fico_range_high',\n",
       "       'sec_app_earliest_cr_line', 'sec_app_inq_last_6mths',\n",
       "       'sec_app_mort_acc', 'sec_app_open_acc', 'sec_app_revol_util',\n",
       "       'sec_app_open_act_il', 'sec_app_num_rev_accts',\n",
       "       'sec_app_chargeoff_within_12_mths',\n",
       "       'sec_app_collections_12_mths_ex_med',\n",
       "       'sec_app_mths_since_last_major_derog', 'hardship_type',\n",
       "       'hardship_reason', 'hardship_status', 'deferral_term',\n",
       "       'hardship_amount', 'hardship_start_date', 'hardship_end_date',\n",
       "       'payment_plan_start_date', 'hardship_length', 'hardship_dpd',\n",
       "       'hardship_loan_status', 'orig_projected_additional_accrued_interest',\n",
       "       'hardship_payoff_balance_amount', 'hardship_last_payment_amount',\n",
       "       'debt_settlement_flag_date', 'settlement_status', 'settlement_date',\n",
       "       'settlement_amount', 'settlement_percentage', 'settlement_term'],\n",
       "      dtype='object')"
      ]
     },
     "execution_count": 5,
     "metadata": {},
     "output_type": "execute_result"
    }
   ],
   "source": [
    "df.columns[df.isnull().any()]"
   ]
  },
  {
   "cell_type": "code",
   "execution_count": 6,
   "metadata": {},
   "outputs": [
    {
     "data": {
      "text/plain": [
       "71"
      ]
     },
     "execution_count": 6,
     "metadata": {},
     "output_type": "execute_result"
    }
   ],
   "source": [
    "len(df.columns[df.isnull().any()])"
   ]
  },
  {
   "cell_type": "code",
   "execution_count": 7,
   "metadata": {},
   "outputs": [
    {
     "data": {
      "text/plain": [
       "id                       1.000000\n",
       "member_id                1.000000\n",
       "loan_amnt                0.000000\n",
       "funded_amnt              0.000000\n",
       "funded_amnt_inv          0.000000\n",
       "                           ...   \n",
       "settlement_status        0.976745\n",
       "settlement_date          0.976745\n",
       "settlement_amount        0.976745\n",
       "settlement_percentage    0.976745\n",
       "settlement_term          0.976745\n",
       "Length: 150, dtype: float64"
      ]
     },
     "execution_count": 7,
     "metadata": {},
     "output_type": "execute_result"
    }
   ],
   "source": [
    "arr=df.isnull().sum()/df.shape[0]\n",
    "arr"
   ]
  },
  {
   "cell_type": "code",
   "execution_count": 8,
   "metadata": {},
   "outputs": [
    {
     "data": {
      "text/html": [
       "<div>\n",
       "<style scoped>\n",
       "    .dataframe tbody tr th:only-of-type {\n",
       "        vertical-align: middle;\n",
       "    }\n",
       "\n",
       "    .dataframe tbody tr th {\n",
       "        vertical-align: top;\n",
       "    }\n",
       "\n",
       "    .dataframe thead th {\n",
       "        text-align: right;\n",
       "    }\n",
       "</style>\n",
       "<table border=\"1\" class=\"dataframe\">\n",
       "  <thead>\n",
       "    <tr style=\"text-align: right;\">\n",
       "      <th></th>\n",
       "      <th>loan_amnt</th>\n",
       "      <th>funded_amnt</th>\n",
       "      <th>funded_amnt_inv</th>\n",
       "      <th>term</th>\n",
       "      <th>int_rate</th>\n",
       "      <th>installment</th>\n",
       "      <th>grade</th>\n",
       "      <th>sub_grade</th>\n",
       "      <th>emp_title</th>\n",
       "      <th>emp_length</th>\n",
       "      <th>...</th>\n",
       "      <th>pct_tl_nvr_dlq</th>\n",
       "      <th>percent_bc_gt_75</th>\n",
       "      <th>pub_rec_bankruptcies</th>\n",
       "      <th>tax_liens</th>\n",
       "      <th>tot_hi_cred_lim</th>\n",
       "      <th>total_bal_ex_mort</th>\n",
       "      <th>total_bc_limit</th>\n",
       "      <th>total_il_high_credit_limit</th>\n",
       "      <th>hardship_flag</th>\n",
       "      <th>debt_settlement_flag</th>\n",
       "    </tr>\n",
       "  </thead>\n",
       "  <tbody>\n",
       "    <tr>\n",
       "      <th>0</th>\n",
       "      <td>7000</td>\n",
       "      <td>7000</td>\n",
       "      <td>7000</td>\n",
       "      <td>36 months</td>\n",
       "      <td>13.99%</td>\n",
       "      <td>239.21</td>\n",
       "      <td>C</td>\n",
       "      <td>C4</td>\n",
       "      <td>facility operator</td>\n",
       "      <td>2 years</td>\n",
       "      <td>...</td>\n",
       "      <td>95.0</td>\n",
       "      <td>66.7</td>\n",
       "      <td>0</td>\n",
       "      <td>0</td>\n",
       "      <td>68213</td>\n",
       "      <td>59105</td>\n",
       "      <td>6000</td>\n",
       "      <td>61113</td>\n",
       "      <td>N</td>\n",
       "      <td>N</td>\n",
       "    </tr>\n",
       "    <tr>\n",
       "      <th>1</th>\n",
       "      <td>6000</td>\n",
       "      <td>6000</td>\n",
       "      <td>6000</td>\n",
       "      <td>36 months</td>\n",
       "      <td>13.99%</td>\n",
       "      <td>205.04</td>\n",
       "      <td>C</td>\n",
       "      <td>C4</td>\n",
       "      <td>Team Lead</td>\n",
       "      <td>10+ years</td>\n",
       "      <td>...</td>\n",
       "      <td>100.0</td>\n",
       "      <td>40.0</td>\n",
       "      <td>0</td>\n",
       "      <td>0</td>\n",
       "      <td>117932</td>\n",
       "      <td>29181</td>\n",
       "      <td>19700</td>\n",
       "      <td>18962</td>\n",
       "      <td>N</td>\n",
       "      <td>N</td>\n",
       "    </tr>\n",
       "    <tr>\n",
       "      <th>2</th>\n",
       "      <td>4000</td>\n",
       "      <td>4000</td>\n",
       "      <td>4000</td>\n",
       "      <td>36 months</td>\n",
       "      <td>12.29%</td>\n",
       "      <td>133.42</td>\n",
       "      <td>C</td>\n",
       "      <td>C1</td>\n",
       "      <td>Production Painter</td>\n",
       "      <td>1 year</td>\n",
       "      <td>...</td>\n",
       "      <td>63.6</td>\n",
       "      <td>100.0</td>\n",
       "      <td>0</td>\n",
       "      <td>0</td>\n",
       "      <td>38725</td>\n",
       "      <td>39380</td>\n",
       "      <td>9200</td>\n",
       "      <td>26325</td>\n",
       "      <td>N</td>\n",
       "      <td>N</td>\n",
       "    </tr>\n",
       "    <tr>\n",
       "      <th>3</th>\n",
       "      <td>12000</td>\n",
       "      <td>12000</td>\n",
       "      <td>12000</td>\n",
       "      <td>36 months</td>\n",
       "      <td>12.29%</td>\n",
       "      <td>400.24</td>\n",
       "      <td>C</td>\n",
       "      <td>C1</td>\n",
       "      <td>Security Hospital Treatment Aide</td>\n",
       "      <td>10+ years</td>\n",
       "      <td>...</td>\n",
       "      <td>100.0</td>\n",
       "      <td>66.7</td>\n",
       "      <td>1</td>\n",
       "      <td>0</td>\n",
       "      <td>28224</td>\n",
       "      <td>14015</td>\n",
       "      <td>9200</td>\n",
       "      <td>11524</td>\n",
       "      <td>N</td>\n",
       "      <td>Y</td>\n",
       "    </tr>\n",
       "    <tr>\n",
       "      <th>4</th>\n",
       "      <td>2500</td>\n",
       "      <td>2500</td>\n",
       "      <td>2500</td>\n",
       "      <td>36 months</td>\n",
       "      <td>17.86%</td>\n",
       "      <td>90.21</td>\n",
       "      <td>D</td>\n",
       "      <td>D5</td>\n",
       "      <td>Marketing Manager</td>\n",
       "      <td>5 years</td>\n",
       "      <td>...</td>\n",
       "      <td>100.0</td>\n",
       "      <td>60.0</td>\n",
       "      <td>0</td>\n",
       "      <td>0</td>\n",
       "      <td>52613</td>\n",
       "      <td>49340</td>\n",
       "      <td>11600</td>\n",
       "      <td>36513</td>\n",
       "      <td>N</td>\n",
       "      <td>N</td>\n",
       "    </tr>\n",
       "  </tbody>\n",
       "</table>\n",
       "<p>5 rows × 90 columns</p>\n",
       "</div>"
      ],
      "text/plain": [
       "   loan_amnt  funded_amnt  funded_amnt_inv       term int_rate  installment  \\\n",
       "0       7000         7000             7000  36 months   13.99%       239.21   \n",
       "1       6000         6000             6000  36 months   13.99%       205.04   \n",
       "2       4000         4000             4000  36 months   12.29%       133.42   \n",
       "3      12000        12000            12000  36 months   12.29%       400.24   \n",
       "4       2500         2500             2500  36 months   17.86%        90.21   \n",
       "\n",
       "  grade sub_grade                         emp_title emp_length  ...  \\\n",
       "0     C        C4                 facility operator    2 years  ...   \n",
       "1     C        C4                         Team Lead  10+ years  ...   \n",
       "2     C        C1                Production Painter     1 year  ...   \n",
       "3     C        C1  Security Hospital Treatment Aide  10+ years  ...   \n",
       "4     D        D5                 Marketing Manager    5 years  ...   \n",
       "\n",
       "  pct_tl_nvr_dlq  percent_bc_gt_75 pub_rec_bankruptcies tax_liens  \\\n",
       "0           95.0              66.7                    0         0   \n",
       "1          100.0              40.0                    0         0   \n",
       "2           63.6             100.0                    0         0   \n",
       "3          100.0              66.7                    1         0   \n",
       "4          100.0              60.0                    0         0   \n",
       "\n",
       "  tot_hi_cred_lim total_bal_ex_mort total_bc_limit total_il_high_credit_limit  \\\n",
       "0           68213             59105           6000                      61113   \n",
       "1          117932             29181          19700                      18962   \n",
       "2           38725             39380           9200                      26325   \n",
       "3           28224             14015           9200                      11524   \n",
       "4           52613             49340          11600                      36513   \n",
       "\n",
       "  hardship_flag debt_settlement_flag  \n",
       "0             N                    N  \n",
       "1             N                    N  \n",
       "2             N                    N  \n",
       "3             N                    Y  \n",
       "4             N                    N  \n",
       "\n",
       "[5 rows x 90 columns]"
      ]
     },
     "execution_count": 8,
     "metadata": {},
     "output_type": "execute_result"
    }
   ],
   "source": [
    "df=df.dropna(thresh=df.shape[0]*0.7,how='all',axis=1)\n",
    "df.head()"
   ]
  },
  {
   "cell_type": "code",
   "execution_count": 9,
   "metadata": {},
   "outputs": [
    {
     "data": {
      "text/plain": [
       "90"
      ]
     },
     "execution_count": 9,
     "metadata": {},
     "output_type": "execute_result"
    }
   ],
   "source": [
    "len(df.columns)"
   ]
  },
  {
   "cell_type": "code",
   "execution_count": 10,
   "metadata": {},
   "outputs": [
    {
     "data": {
      "text/plain": [
       "Index(['emp_title', 'emp_length', 'revol_util', 'last_pymnt_d',\n",
       "       'bc_open_to_buy', 'bc_util', 'mo_sin_old_il_acct',\n",
       "       'mths_since_recent_bc', 'mths_since_recent_inq', 'num_tl_120dpd_2m',\n",
       "       'percent_bc_gt_75'],\n",
       "      dtype='object')"
      ]
     },
     "execution_count": 10,
     "metadata": {},
     "output_type": "execute_result"
    }
   ],
   "source": [
    "df.columns[df.isnull().any()]"
   ]
  },
  {
   "cell_type": "code",
   "execution_count": 11,
   "metadata": {},
   "outputs": [
    {
     "data": {
      "text/plain": [
       "0.06598721713594749"
      ]
     },
     "execution_count": 11,
     "metadata": {},
     "output_type": "execute_result"
    }
   ],
   "source": [
    "df['emp_title'].isnull().sum()/df.shape[0]"
   ]
  },
  {
   "cell_type": "code",
   "execution_count": 12,
   "metadata": {},
   "outputs": [
    {
     "data": {
      "text/plain": [
       "0    Teacher\n",
       "dtype: object"
      ]
     },
     "execution_count": 12,
     "metadata": {},
     "output_type": "execute_result"
    }
   ],
   "source": [
    "m1=df['emp_title'].mode()\n",
    "m1"
   ]
  },
  {
   "cell_type": "code",
   "execution_count": 13,
   "metadata": {},
   "outputs": [],
   "source": [
    "df['emp_title']=df['emp_title'].fillna('Teacher',axis=0)"
   ]
  },
  {
   "cell_type": "code",
   "execution_count": 14,
   "metadata": {},
   "outputs": [
    {
     "data": {
      "text/plain": [
       "0"
      ]
     },
     "execution_count": 14,
     "metadata": {},
     "output_type": "execute_result"
    }
   ],
   "source": [
    "df['emp_title'].isnull().sum()"
   ]
  },
  {
   "cell_type": "code",
   "execution_count": 15,
   "metadata": {},
   "outputs": [
    {
     "data": {
      "text/plain": [
       "0.06600880981171187"
      ]
     },
     "execution_count": 15,
     "metadata": {},
     "output_type": "execute_result"
    }
   ],
   "source": [
    "df['emp_length'].isnull().sum()/df.shape[0]"
   ]
  },
  {
   "cell_type": "code",
   "execution_count": 16,
   "metadata": {},
   "outputs": [
    {
     "data": {
      "text/plain": [
       "10+ years    29161\n",
       "2 years       8504\n",
       "< 1 year      7703\n",
       "3 years       7448\n",
       "1 year        6598\n",
       "5 years       5642\n",
       "4 years       5536\n",
       "8 years       4711\n",
       "7 years       4007\n",
       "9 years       3629\n",
       "6 years       3571\n",
       "Name: emp_length, dtype: int64"
      ]
     },
     "execution_count": 16,
     "metadata": {},
     "output_type": "execute_result"
    }
   ],
   "source": [
    "df['emp_length'].value_counts()"
   ]
  },
  {
   "cell_type": "code",
   "execution_count": 17,
   "metadata": {},
   "outputs": [
    {
     "data": {
      "text/plain": [
       "0    10+ years\n",
       "dtype: object"
      ]
     },
     "execution_count": 17,
     "metadata": {},
     "output_type": "execute_result"
    }
   ],
   "source": [
    "df['emp_length'].mode()"
   ]
  },
  {
   "cell_type": "code",
   "execution_count": 18,
   "metadata": {},
   "outputs": [],
   "source": [
    "df['emp_length']=df['emp_length'].fillna('10+ years',axis=0)"
   ]
  },
  {
   "cell_type": "code",
   "execution_count": 19,
   "metadata": {},
   "outputs": [
    {
     "data": {
      "text/plain": [
       "0"
      ]
     },
     "execution_count": 19,
     "metadata": {},
     "output_type": "execute_result"
    }
   ],
   "source": [
    "df['emp_length'].isnull().sum()"
   ]
  },
  {
   "cell_type": "code",
   "execution_count": 20,
   "metadata": {},
   "outputs": [
    {
     "data": {
      "text/plain": [
       "0.000539816894109518"
      ]
     },
     "execution_count": 20,
     "metadata": {},
     "output_type": "execute_result"
    }
   ],
   "source": [
    "df['revol_util'].isnull().sum()/df.shape[0]"
   ]
  },
  {
   "cell_type": "code",
   "execution_count": 21,
   "metadata": {},
   "outputs": [
    {
     "data": {
      "text/plain": [
       "count     92574\n",
       "unique     1100\n",
       "top          0%\n",
       "freq        319\n",
       "Name: revol_util, dtype: object"
      ]
     },
     "execution_count": 21,
     "metadata": {},
     "output_type": "execute_result"
    }
   ],
   "source": [
    "df['revol_util'].describe()"
   ]
  },
  {
   "cell_type": "code",
   "execution_count": 22,
   "metadata": {},
   "outputs": [],
   "source": [
    "df['revol_util']=df['revol_util'].fillna('0%',axis=0)"
   ]
  },
  {
   "cell_type": "code",
   "execution_count": 23,
   "metadata": {},
   "outputs": [
    {
     "data": {
      "text/plain": [
       "0"
      ]
     },
     "execution_count": 23,
     "metadata": {},
     "output_type": "execute_result"
    }
   ],
   "source": [
    "df['revol_util'].isnull().sum()"
   ]
  },
  {
   "cell_type": "code",
   "execution_count": 24,
   "metadata": {},
   "outputs": [
    {
     "data": {
      "text/plain": [
       "0.0008097253411642771"
      ]
     },
     "execution_count": 24,
     "metadata": {},
     "output_type": "execute_result"
    }
   ],
   "source": [
    "df['last_pymnt_d'].isnull().sum()/df.shape[0]"
   ]
  },
  {
   "cell_type": "code",
   "execution_count": 25,
   "metadata": {},
   "outputs": [
    {
     "data": {
      "text/plain": [
       "count        92549\n",
       "unique          47\n",
       "top       Aug-2018\n",
       "freq          8733\n",
       "Name: last_pymnt_d, dtype: object"
      ]
     },
     "execution_count": 25,
     "metadata": {},
     "output_type": "execute_result"
    }
   ],
   "source": [
    "df['last_pymnt_d'].describe()"
   ]
  },
  {
   "cell_type": "code",
   "execution_count": 26,
   "metadata": {},
   "outputs": [],
   "source": [
    "df['last_pymnt_d']=df['last_pymnt_d'].fillna('Aug-2018',axis=0)"
   ]
  },
  {
   "cell_type": "code",
   "execution_count": 27,
   "metadata": {},
   "outputs": [
    {
     "data": {
      "text/plain": [
       "0"
      ]
     },
     "execution_count": 27,
     "metadata": {},
     "output_type": "execute_result"
    }
   ],
   "source": [
    "df['last_pymnt_d'].isnull().sum()"
   ]
  },
  {
   "cell_type": "code",
   "execution_count": 28,
   "metadata": {},
   "outputs": [
    {
     "data": {
      "text/plain": [
       "0.009673518742442563"
      ]
     },
     "execution_count": 28,
     "metadata": {},
     "output_type": "execute_result"
    }
   ],
   "source": [
    "df['bc_open_to_buy'].isnull().sum()/df.shape[0]"
   ]
  },
  {
   "cell_type": "code",
   "execution_count": 29,
   "metadata": {},
   "outputs": [
    {
     "data": {
      "text/plain": [
       "count     91728.000000\n",
       "mean       9691.385607\n",
       "std       14830.317396\n",
       "min           0.000000\n",
       "25%        1427.750000\n",
       "50%        4380.500000\n",
       "75%       11534.250000\n",
       "max      242855.000000\n",
       "Name: bc_open_to_buy, dtype: float64"
      ]
     },
     "execution_count": 29,
     "metadata": {},
     "output_type": "execute_result"
    }
   ],
   "source": [
    "df['bc_open_to_buy'].describe()"
   ]
  },
  {
   "cell_type": "code",
   "execution_count": 30,
   "metadata": {},
   "outputs": [
    {
     "data": {
      "text/plain": [
       "4380.5"
      ]
     },
     "execution_count": 30,
     "metadata": {},
     "output_type": "execute_result"
    }
   ],
   "source": [
    "df['bc_open_to_buy'].median()"
   ]
  },
  {
   "cell_type": "code",
   "execution_count": 31,
   "metadata": {},
   "outputs": [],
   "source": [
    "df['bc_open_to_buy']=df['bc_open_to_buy'].fillna(df['bc_open_to_buy'].median(),axis=0)"
   ]
  },
  {
   "cell_type": "code",
   "execution_count": 32,
   "metadata": {},
   "outputs": [
    {
     "data": {
      "text/plain": [
       "0"
      ]
     },
     "execution_count": 32,
     "metadata": {},
     "output_type": "execute_result"
    }
   ],
   "source": [
    "df['bc_open_to_buy'].isnull().sum()"
   ]
  },
  {
   "cell_type": "code",
   "execution_count": 33,
   "metadata": {},
   "outputs": [
    {
     "data": {
      "text/plain": [
       "0.010418466056313698"
      ]
     },
     "execution_count": 33,
     "metadata": {},
     "output_type": "execute_result"
    }
   ],
   "source": [
    "df['bc_util'].isnull().sum()/df.shape[0]"
   ]
  },
  {
   "cell_type": "code",
   "execution_count": 34,
   "metadata": {},
   "outputs": [
    {
     "data": {
      "text/plain": [
       "count    91659.000000\n",
       "mean        60.166110\n",
       "std         27.774032\n",
       "min          0.000000\n",
       "25%         39.000000\n",
       "50%         63.000000\n",
       "75%         84.500000\n",
       "max        202.000000\n",
       "Name: bc_util, dtype: float64"
      ]
     },
     "execution_count": 34,
     "metadata": {},
     "output_type": "execute_result"
    }
   ],
   "source": [
    "df['bc_util'].describe()"
   ]
  },
  {
   "cell_type": "code",
   "execution_count": 35,
   "metadata": {},
   "outputs": [],
   "source": [
    "df['bc_util']=df['bc_util'].fillna(df['bc_util'].mean(),axis=0)"
   ]
  },
  {
   "cell_type": "code",
   "execution_count": 36,
   "metadata": {},
   "outputs": [
    {
     "data": {
      "text/plain": [
       "0"
      ]
     },
     "execution_count": 36,
     "metadata": {},
     "output_type": "execute_result"
    }
   ],
   "source": [
    "df['bc_util'].isnull().sum()"
   ]
  },
  {
   "cell_type": "code",
   "execution_count": 37,
   "metadata": {},
   "outputs": [
    {
     "data": {
      "text/plain": [
       "0.035433580929348764"
      ]
     },
     "execution_count": 37,
     "metadata": {},
     "output_type": "execute_result"
    }
   ],
   "source": [
    "df['mo_sin_old_il_acct'].isnull().sum()/df.shape[0]"
   ]
  },
  {
   "cell_type": "code",
   "execution_count": 38,
   "metadata": {},
   "outputs": [
    {
     "data": {
      "text/plain": [
       "count    89342.000000\n",
       "mean       124.953124\n",
       "std         53.150911\n",
       "min          0.000000\n",
       "25%         96.000000\n",
       "50%        128.000000\n",
       "75%        152.000000\n",
       "max        640.000000\n",
       "Name: mo_sin_old_il_acct, dtype: float64"
      ]
     },
     "execution_count": 38,
     "metadata": {},
     "output_type": "execute_result"
    }
   ],
   "source": [
    "df['mo_sin_old_il_acct'].describe()"
   ]
  },
  {
   "cell_type": "code",
   "execution_count": 39,
   "metadata": {},
   "outputs": [],
   "source": [
    "df['mo_sin_old_il_acct']=df['mo_sin_old_il_acct'].fillna(df['mo_sin_old_il_acct'].median(),axis=0)"
   ]
  },
  {
   "cell_type": "code",
   "execution_count": 40,
   "metadata": {},
   "outputs": [
    {
     "data": {
      "text/plain": [
       "0"
      ]
     },
     "execution_count": 40,
     "metadata": {},
     "output_type": "execute_result"
    }
   ],
   "source": [
    "df['mo_sin_old_il_acct'].isnull().sum()"
   ]
  },
  {
   "cell_type": "code",
   "execution_count": 41,
   "metadata": {},
   "outputs": [
    {
     "data": {
      "text/plain": [
       "0.009446795646916566"
      ]
     },
     "execution_count": 41,
     "metadata": {},
     "output_type": "execute_result"
    }
   ],
   "source": [
    "df['mths_since_recent_bc'].isnull().sum()/df.shape[0]"
   ]
  },
  {
   "cell_type": "code",
   "execution_count": 42,
   "metadata": {},
   "outputs": [
    {
     "data": {
      "text/plain": [
       "count    91749.000000\n",
       "mean        24.625892\n",
       "std         32.272067\n",
       "min          0.000000\n",
       "25%          6.000000\n",
       "50%         13.000000\n",
       "75%         29.000000\n",
       "max        604.000000\n",
       "Name: mths_since_recent_bc, dtype: float64"
      ]
     },
     "execution_count": 42,
     "metadata": {},
     "output_type": "execute_result"
    }
   ],
   "source": [
    "df['mths_since_recent_bc'].describe()"
   ]
  },
  {
   "cell_type": "code",
   "execution_count": 43,
   "metadata": {},
   "outputs": [],
   "source": [
    "df['mths_since_recent_bc']=df['mths_since_recent_bc'].fillna(df['mths_since_recent_bc'].median(),axis=0)"
   ]
  },
  {
   "cell_type": "code",
   "execution_count": 44,
   "metadata": {},
   "outputs": [
    {
     "data": {
      "text/plain": [
       "0"
      ]
     },
     "execution_count": 44,
     "metadata": {},
     "output_type": "execute_result"
    }
   ],
   "source": [
    "df['mths_since_recent_bc'].isnull().sum()"
   ]
  },
  {
   "cell_type": "code",
   "execution_count": 45,
   "metadata": {},
   "outputs": [
    {
     "data": {
      "text/plain": [
       "0.11161254102608395"
      ]
     },
     "execution_count": 45,
     "metadata": {},
     "output_type": "execute_result"
    }
   ],
   "source": [
    "df['mths_since_recent_inq'].isnull().sum()/df.shape[0]"
   ]
  },
  {
   "cell_type": "code",
   "execution_count": 46,
   "metadata": {},
   "outputs": [
    {
     "data": {
      "text/plain": [
       "count    82286.000000\n",
       "mean         6.818280\n",
       "std          5.964167\n",
       "min          0.000000\n",
       "25%          2.000000\n",
       "50%          5.000000\n",
       "75%         10.000000\n",
       "max         25.000000\n",
       "Name: mths_since_recent_inq, dtype: float64"
      ]
     },
     "execution_count": 46,
     "metadata": {},
     "output_type": "execute_result"
    }
   ],
   "source": [
    "df['mths_since_recent_inq'].describe()"
   ]
  },
  {
   "cell_type": "code",
   "execution_count": 47,
   "metadata": {},
   "outputs": [],
   "source": [
    "df['mths_since_recent_inq']=df['mths_since_recent_inq'].fillna(df['mths_since_recent_inq'].mean(),axis=0)"
   ]
  },
  {
   "cell_type": "code",
   "execution_count": 48,
   "metadata": {},
   "outputs": [
    {
     "data": {
      "text/plain": [
       "0"
      ]
     },
     "execution_count": 48,
     "metadata": {},
     "output_type": "execute_result"
    }
   ],
   "source": [
    "df['mths_since_recent_inq'].isnull().sum()"
   ]
  },
  {
   "cell_type": "code",
   "execution_count": 49,
   "metadata": {},
   "outputs": [
    {
     "data": {
      "text/plain": [
       "0.05869968906546899"
      ]
     },
     "execution_count": 49,
     "metadata": {},
     "output_type": "execute_result"
    }
   ],
   "source": [
    "df['num_tl_120dpd_2m'].isnull().sum()/df.shape[0]"
   ]
  },
  {
   "cell_type": "code",
   "execution_count": 50,
   "metadata": {},
   "outputs": [
    {
     "data": {
      "text/plain": [
       "count    87187.000000\n",
       "mean         0.000642\n",
       "std          0.026659\n",
       "min          0.000000\n",
       "25%          0.000000\n",
       "50%          0.000000\n",
       "75%          0.000000\n",
       "max          2.000000\n",
       "Name: num_tl_120dpd_2m, dtype: float64"
      ]
     },
     "execution_count": 50,
     "metadata": {},
     "output_type": "execute_result"
    }
   ],
   "source": [
    "df['num_tl_120dpd_2m'].describe()"
   ]
  },
  {
   "cell_type": "code",
   "execution_count": 51,
   "metadata": {},
   "outputs": [],
   "source": [
    "df['num_tl_120dpd_2m']=df['num_tl_120dpd_2m'].fillna(df['num_tl_120dpd_2m'].mean(),axis=0)"
   ]
  },
  {
   "cell_type": "code",
   "execution_count": 52,
   "metadata": {},
   "outputs": [
    {
     "data": {
      "text/plain": [
       "0"
      ]
     },
     "execution_count": 52,
     "metadata": {},
     "output_type": "execute_result"
    }
   ],
   "source": [
    "df['num_tl_120dpd_2m'].isnull().sum()"
   ]
  },
  {
   "cell_type": "code",
   "execution_count": 53,
   "metadata": {},
   "outputs": [
    {
     "data": {
      "text/plain": [
       "0.010709967179132838"
      ]
     },
     "execution_count": 53,
     "metadata": {},
     "output_type": "execute_result"
    }
   ],
   "source": [
    "df['percent_bc_gt_75'].isnull().sum()/df.shape[0]"
   ]
  },
  {
   "cell_type": "code",
   "execution_count": 54,
   "metadata": {},
   "outputs": [
    {
     "data": {
      "text/plain": [
       "count    91632.000000\n",
       "mean        44.854520\n",
       "std         36.219658\n",
       "min          0.000000\n",
       "25%          7.700000\n",
       "50%         42.900000\n",
       "75%         75.000000\n",
       "max        100.000000\n",
       "Name: percent_bc_gt_75, dtype: float64"
      ]
     },
     "execution_count": 54,
     "metadata": {},
     "output_type": "execute_result"
    }
   ],
   "source": [
    "df['percent_bc_gt_75'].describe()"
   ]
  },
  {
   "cell_type": "code",
   "execution_count": 55,
   "metadata": {},
   "outputs": [],
   "source": [
    "df['percent_bc_gt_75']=df['percent_bc_gt_75'].fillna(df['percent_bc_gt_75'].median(),axis=0)"
   ]
  },
  {
   "cell_type": "code",
   "execution_count": 56,
   "metadata": {},
   "outputs": [
    {
     "data": {
      "text/plain": [
       "0"
      ]
     },
     "execution_count": 56,
     "metadata": {},
     "output_type": "execute_result"
    }
   ],
   "source": [
    "df['percent_bc_gt_75'].isnull().sum()"
   ]
  },
  {
   "cell_type": "code",
   "execution_count": 57,
   "metadata": {},
   "outputs": [
    {
     "data": {
      "text/plain": [
       "Index([], dtype='object')"
      ]
     },
     "execution_count": 57,
     "metadata": {},
     "output_type": "execute_result"
    }
   ],
   "source": [
    "df.columns[df.isnull().any()]"
   ]
  },
  {
   "cell_type": "code",
   "execution_count": 58,
   "metadata": {},
   "outputs": [
    {
     "data": {
      "text/plain": [
       "(92624, 90)"
      ]
     },
     "execution_count": 58,
     "metadata": {},
     "output_type": "execute_result"
    }
   ],
   "source": [
    "df.shape"
   ]
  },
  {
   "cell_type": "code",
   "execution_count": 59,
   "metadata": {},
   "outputs": [
    {
     "data": {
      "text/plain": [
       "Index(['loan_amnt', 'funded_amnt', 'funded_amnt_inv', 'term', 'int_rate',\n",
       "       'installment', 'grade', 'sub_grade', 'emp_title', 'emp_length',\n",
       "       'home_ownership', 'annual_inc', 'verification_status', 'issue_d',\n",
       "       'loan_status', 'pymnt_plan', 'purpose', 'title', 'zip_code',\n",
       "       'addr_state', 'dti', 'delinq_2yrs', 'earliest_cr_line',\n",
       "       'fico_range_low', 'fico_range_high', 'inq_last_6mths', 'open_acc',\n",
       "       'pub_rec', 'revol_bal', 'revol_util', 'total_acc',\n",
       "       'initial_list_status', 'out_prncp', 'out_prncp_inv', 'total_pymnt',\n",
       "       'total_pymnt_inv', 'total_rec_prncp', 'total_rec_int',\n",
       "       'total_rec_late_fee', 'recoveries', 'collection_recovery_fee',\n",
       "       'last_pymnt_d', 'last_pymnt_amnt', 'last_credit_pull_d',\n",
       "       'last_fico_range_high', 'last_fico_range_low',\n",
       "       'collections_12_mths_ex_med', 'policy_code', 'application_type',\n",
       "       'acc_now_delinq', 'tot_coll_amt', 'tot_cur_bal', 'total_rev_hi_lim',\n",
       "       'acc_open_past_24mths', 'avg_cur_bal', 'bc_open_to_buy', 'bc_util',\n",
       "       'chargeoff_within_12_mths', 'delinq_amnt', 'mo_sin_old_il_acct',\n",
       "       'mo_sin_old_rev_tl_op', 'mo_sin_rcnt_rev_tl_op', 'mo_sin_rcnt_tl',\n",
       "       'mort_acc', 'mths_since_recent_bc', 'mths_since_recent_inq',\n",
       "       'num_accts_ever_120_pd', 'num_actv_bc_tl', 'num_actv_rev_tl',\n",
       "       'num_bc_sats', 'num_bc_tl', 'num_il_tl', 'num_op_rev_tl',\n",
       "       'num_rev_accts', 'num_rev_tl_bal_gt_0', 'num_sats', 'num_tl_120dpd_2m',\n",
       "       'num_tl_30dpd', 'num_tl_90g_dpd_24m', 'num_tl_op_past_12m',\n",
       "       'pct_tl_nvr_dlq', 'percent_bc_gt_75', 'pub_rec_bankruptcies',\n",
       "       'tax_liens', 'tot_hi_cred_lim', 'total_bal_ex_mort', 'total_bc_limit',\n",
       "       'total_il_high_credit_limit', 'hardship_flag', 'debt_settlement_flag'],\n",
       "      dtype='object')"
      ]
     },
     "execution_count": 59,
     "metadata": {},
     "output_type": "execute_result"
    }
   ],
   "source": [
    "df.columns"
   ]
  },
  {
   "cell_type": "code",
   "execution_count": 60,
   "metadata": {},
   "outputs": [
    {
     "data": {
      "text/plain": [
       "(2287.7409408920494,\n",
       " 8.534698099681264e-55,\n",
       " 1321,\n",
       " array([[5.07027120e+01, 2.93297288e+02],\n",
       "        [2.94783210e-01, 1.70521679e+00],\n",
       "        [5.89566419e-01, 3.41043358e+00],\n",
       "        ...,\n",
       "        [4.42174814e-01, 2.55782519e+00],\n",
       "        [2.94783210e-01, 1.70521679e+00],\n",
       "        [4.37900458e+02, 2.53309954e+03]]))"
      ]
     },
     "execution_count": 60,
     "metadata": {},
     "output_type": "execute_result"
    }
   ],
   "source": [
    "from scipy.stats import chi2_contingency\n",
    "chi2_contingency(pd.crosstab(df['loan_amnt'],df['loan_status']))"
   ]
  },
  {
   "cell_type": "code",
   "execution_count": 61,
   "metadata": {},
   "outputs": [
    {
     "data": {
      "text/plain": [
       "(2287.7409408920494,\n",
       " 8.534698099681264e-55,\n",
       " 1321,\n",
       " array([[5.07027120e+01, 2.93297288e+02],\n",
       "        [2.94783210e-01, 1.70521679e+00],\n",
       "        [5.89566419e-01, 3.41043358e+00],\n",
       "        ...,\n",
       "        [4.42174814e-01, 2.55782519e+00],\n",
       "        [2.94783210e-01, 1.70521679e+00],\n",
       "        [4.37900458e+02, 2.53309954e+03]]))"
      ]
     },
     "execution_count": 61,
     "metadata": {},
     "output_type": "execute_result"
    }
   ],
   "source": [
    "chi2_contingency(pd.crosstab(df['funded_amnt'],df['loan_status']))"
   ]
  },
  {
   "cell_type": "code",
   "execution_count": 62,
   "metadata": {},
   "outputs": [
    {
     "data": {
      "text/plain": [
       "(2221.033421379436,\n",
       " 1.574041550159926e-47,\n",
       " 1332,\n",
       " array([[1.47391605e-01, 8.52608395e-01],\n",
       "        [1.47391605e-01, 8.52608395e-01],\n",
       "        [5.04079288e+01, 2.91592071e+02],\n",
       "        ...,\n",
       "        [1.85713422e+01, 1.07428658e+02],\n",
       "        [2.77096217e+01, 1.60290378e+02],\n",
       "        [3.53150285e+02, 2.04284971e+03]]))"
      ]
     },
     "execution_count": 62,
     "metadata": {},
     "output_type": "execute_result"
    }
   ],
   "source": [
    "chi2_contingency(pd.crosstab(df['funded_amnt_inv'],df['loan_status']))"
   ]
  },
  {
   "cell_type": "code",
   "execution_count": 63,
   "metadata": {},
   "outputs": [
    {
     "data": {
      "text/plain": [
       "(0.0, 1.0, 0, array([[13652., 78972.]]))"
      ]
     },
     "execution_count": 63,
     "metadata": {},
     "output_type": "execute_result"
    }
   ],
   "source": [
    "chi2_contingency(pd.crosstab(df['term'],df['loan_status']))"
   ]
  },
  {
   "cell_type": "code",
   "execution_count": 64,
   "metadata": {},
   "outputs": [
    {
     "data": {
      "text/plain": [
       "(4885.606132102021, 0.0, 43, array([[8.16254707e+02, 4.72174529e+03],\n",
       "        [8.65336112e+02, 5.00566389e+03],\n",
       "        [9.01447055e+02, 5.21455295e+03],\n",
       "        [8.45733028e+02, 4.89226697e+03],\n",
       "        [7.77490715e+02, 4.49750928e+03],\n",
       "        [6.74758767e+02, 3.90324123e+03],\n",
       "        [5.71584643e+02, 3.30641536e+03],\n",
       "        [4.92287960e+02, 2.84771204e+03],\n",
       "        [3.56098117e+02, 2.05990188e+03],\n",
       "        [3.19987174e+02, 1.85101283e+03],\n",
       "        [2.56903567e+02, 1.48609643e+03],\n",
       "        [2.05906072e+02, 1.19109393e+03],\n",
       "        [1.63899465e+02, 9.48100535e+02],\n",
       "        [1.21892857e+02, 7.05107143e+02],\n",
       "        [2.94783210e-01, 1.70521679e+00],\n",
       "        [9.52149767e+01, 5.50785023e+02],\n",
       "        [7.36958024e-01, 4.26304198e+00],\n",
       "        [6.36731733e+01, 3.68326827e+02],\n",
       "        [1.47391605e-01, 8.52608395e-01],\n",
       "        [4.14170409e+01, 2.39582959e+02],\n",
       "        [2.94783210e-01, 1.70521679e+00],\n",
       "        [2.54987476e+01, 1.47501252e+02],\n",
       "        [1.76869926e+01, 1.02313007e+02],\n",
       "        [1.17913284e+01, 6.82086716e+01],\n",
       "        [7.22218863e+00, 4.17778114e+01],\n",
       "        [6.04305580e+00, 3.49569442e+01],\n",
       "        [4.27435654e+00, 2.47256435e+01],\n",
       "        [3.39000691e+00, 1.96099931e+01],\n",
       "        [8.84349629e-01, 5.11565037e+00],\n",
       "        [1.47391605e+00, 8.52608395e+00],\n",
       "        [4.42174814e-01, 2.55782519e+00],\n",
       "        [6.41595656e+02, 3.71140434e+03],\n",
       "        [1.17913284e+00, 6.82086716e+00],\n",
       "        [4.12696493e+00, 2.38730351e+01],\n",
       "        [5.51834168e+02, 3.19216583e+03],\n",
       "        [1.17913284e+00, 6.82086716e+00],\n",
       "        [1.03174123e+00, 5.96825877e+00],\n",
       "        [5.23682372e+02, 3.02931763e+03],\n",
       "        [1.32652444e+00, 7.67347556e+00],\n",
       "        [6.45722620e+02, 3.73527738e+03],\n",
       "        [9.61730221e+02, 5.56326978e+03],\n",
       "        [9.26503628e+02, 5.35949637e+03],\n",
       "        [8.71231776e+02, 5.03976822e+03],\n",
       "        [8.70789601e+02, 5.03721040e+03]]))"
      ]
     },
     "execution_count": 64,
     "metadata": {},
     "output_type": "execute_result"
    }
   ],
   "source": [
    "chi2_contingency(pd.crosstab(df['int_rate'],df['loan_status']))"
   ]
  },
  {
   "cell_type": "code",
   "execution_count": 65,
   "metadata": {},
   "outputs": [
    {
     "data": {
      "text/plain": [
       "(18785.90658180749, 0.0, 11708, array([[0.1473916 , 0.8526084 ],\n",
       "        [0.29478321, 1.70521679],\n",
       "        [0.1473916 , 0.8526084 ],\n",
       "        ...,\n",
       "        [0.1473916 , 0.8526084 ],\n",
       "        [0.1473916 , 0.8526084 ],\n",
       "        [0.29478321, 1.70521679]]))"
      ]
     },
     "execution_count": 65,
     "metadata": {},
     "output_type": "execute_result"
    }
   ],
   "source": [
    "chi2_contingency(pd.crosstab(df['installment'],df['loan_status']))"
   ]
  },
  {
   "cell_type": "code",
   "execution_count": 66,
   "metadata": {},
   "outputs": [
    {
     "data": {
      "text/plain": [
       "(4560.227689855373, 0.0, 6, array([[3.32972374e+03, 1.92612763e+04],\n",
       "        [4.35144235e+03, 2.51715577e+04],\n",
       "        [3.77263552e+03, 2.18233645e+04],\n",
       "        [1.63177246e+03, 9.43922754e+03],\n",
       "        [4.87718820e+02, 2.82128118e+03],\n",
       "        [6.82423130e+01, 3.94757687e+02],\n",
       "        [1.04648039e+01, 6.05351961e+01]]))"
      ]
     },
     "execution_count": 66,
     "metadata": {},
     "output_type": "execute_result"
    }
   ],
   "source": [
    "chi2_contingency(pd.crosstab(df['grade'],df['loan_status']))"
   ]
  },
  {
   "cell_type": "code",
   "execution_count": 67,
   "metadata": {},
   "outputs": [
    {
     "data": {
      "text/plain": [
       "(4873.512164793281, 0.0, 34, array([[6.42774788e+02, 3.71822521e+03],\n",
       "        [5.53308084e+02, 3.20069192e+03],\n",
       "        [5.24714113e+02, 3.03528589e+03],\n",
       "        [6.47196537e+02, 3.74380346e+03],\n",
       "        [9.61730221e+02, 5.56326978e+03],\n",
       "        [9.26503628e+02, 5.35949637e+03],\n",
       "        [8.71231776e+02, 5.03976822e+03],\n",
       "        [8.71084384e+02, 5.03891562e+03],\n",
       "        [8.16991665e+02, 4.72600833e+03],\n",
       "        [8.65630895e+02, 5.00736911e+03],\n",
       "        [9.01741838e+02, 5.21625816e+03],\n",
       "        [8.46469986e+02, 4.89653001e+03],\n",
       "        [7.77638107e+02, 4.49836189e+03],\n",
       "        [6.74906158e+02, 3.90409384e+03],\n",
       "        [5.71879426e+02, 3.30812057e+03],\n",
       "        [4.92287960e+02, 2.84771204e+03],\n",
       "        [3.56392900e+02, 2.06160710e+03],\n",
       "        [3.19987174e+02, 1.85101283e+03],\n",
       "        [2.57050959e+02, 1.48694904e+03],\n",
       "        [2.06053463e+02, 1.19194654e+03],\n",
       "        [1.64046856e+02, 9.48953144e+02],\n",
       "        [1.22187640e+02, 7.06812360e+02],\n",
       "        [9.59519347e+01, 5.55048065e+02],\n",
       "        [6.38205649e+01, 3.69179435e+02],\n",
       "        [4.17118241e+01, 2.41288176e+02],\n",
       "        [2.54987476e+01, 1.47501252e+02],\n",
       "        [1.76869926e+01, 1.02313007e+02],\n",
       "        [1.17913284e+01, 6.82086716e+01],\n",
       "        [7.22218863e+00, 4.17778114e+01],\n",
       "        [6.04305580e+00, 3.49569442e+01],\n",
       "        [4.27435654e+00, 2.47256435e+01],\n",
       "        [3.39000691e+00, 1.96099931e+01],\n",
       "        [8.84349629e-01, 5.11565037e+00],\n",
       "        [1.47391605e+00, 8.52608395e+00],\n",
       "        [4.42174814e-01, 2.55782519e+00]]))"
      ]
     },
     "execution_count": 67,
     "metadata": {},
     "output_type": "execute_result"
    }
   ],
   "source": [
    "chi2_contingency(pd.crosstab(df['sub_grade'],df['loan_status']))"
   ]
  },
  {
   "cell_type": "code",
   "execution_count": 68,
   "metadata": {},
   "outputs": [
    {
     "data": {
      "text/plain": [
       "(33394.418312256195,\n",
       " 0.19374477282083738,\n",
       " 33172,\n",
       " array([[0.1473916 , 0.8526084 ],\n",
       "        [0.1473916 , 0.8526084 ],\n",
       "        [0.1473916 , 0.8526084 ],\n",
       "        ...,\n",
       "        [0.29478321, 1.70521679],\n",
       "        [0.1473916 , 0.8526084 ],\n",
       "        [0.1473916 , 0.8526084 ]]))"
      ]
     },
     "execution_count": 68,
     "metadata": {},
     "output_type": "execute_result"
    }
   ],
   "source": [
    "chi2_contingency(pd.crosstab(df['emp_title'],df['loan_status']))"
   ]
  },
  {
   "cell_type": "code",
   "execution_count": 69,
   "metadata": {},
   "outputs": [
    {
     "data": {
      "text/plain": [
       "(10.459920072334931,\n",
       " 0.40111031957352733,\n",
       " 10,\n",
       " array([[  972.48980826,  5625.51019174],\n",
       "        [ 5199.23885818, 30075.76114182],\n",
       "        [ 1253.41820694,  7250.58179306],\n",
       "        [ 1097.77267231,  6350.22732769],\n",
       "        [  815.95992399,  4720.04007601],\n",
       "        [  831.5834341 ,  4810.4165659 ],\n",
       "        [  526.33542063,  3044.66457937],\n",
       "        [  590.5981603 ,  3416.4018397 ],\n",
       "        [  694.36185006,  4016.63814994],\n",
       "        [  534.8841337 ,  3094.1158663 ],\n",
       "        [ 1135.35753153,  6567.64246847]]))"
      ]
     },
     "execution_count": 69,
     "metadata": {},
     "output_type": "execute_result"
    }
   ],
   "source": [
    "chi2_contingency(pd.crosstab(df['emp_length'],df['loan_status']))"
   ]
  },
  {
   "cell_type": "code",
   "execution_count": 70,
   "metadata": {},
   "outputs": [
    {
     "data": {
      "text/plain": [
       "(509.80646036366323,\n",
       " 1.9812246042308414e-111,\n",
       " 2,\n",
       " array([[ 6274.01844015, 36292.98155985],\n",
       "        [ 1536.11530489,  8885.88469511],\n",
       "        [ 5841.86625497, 33793.13374503]]))"
      ]
     },
     "execution_count": 70,
     "metadata": {},
     "output_type": "execute_result"
    }
   ],
   "source": [
    "chi2_contingency(pd.crosstab(df['home_ownership'],df['loan_status']))"
   ]
  },
  {
   "cell_type": "code",
   "execution_count": 71,
   "metadata": {},
   "outputs": [
    {
     "data": {
      "text/plain": [
       "(9032.015833402638, 1.789332047256102e-18, 7890, array([[0.1473916, 0.8526084],\n",
       "        [0.1473916, 0.8526084],\n",
       "        [0.1473916, 0.8526084],\n",
       "        ...,\n",
       "        [0.1473916, 0.8526084],\n",
       "        [0.1473916, 0.8526084],\n",
       "        [0.1473916, 0.8526084]]))"
      ]
     },
     "execution_count": 71,
     "metadata": {},
     "output_type": "execute_result"
    }
   ],
   "source": [
    "chi2_contingency(pd.crosstab(df['annual_inc'],df['loan_status']))"
   ]
  },
  {
   "cell_type": "code",
   "execution_count": 72,
   "metadata": {},
   "outputs": [
    {
     "data": {
      "text/plain": [
       "(741.5769001402317,\n",
       " 9.302982009253966e-162,\n",
       " 2,\n",
       " array([[ 4121.51144412, 23841.48855588],\n",
       "        [ 5789.83701848, 33492.16298152],\n",
       "        [ 3740.6515374 , 21638.3484626 ]]))"
      ]
     },
     "execution_count": 72,
     "metadata": {},
     "output_type": "execute_result"
    }
   ],
   "source": [
    "chi2_contingency(pd.crosstab(df['verification_status'],df['loan_status']))"
   ]
  },
  {
   "cell_type": "code",
   "execution_count": 73,
   "metadata": {},
   "outputs": [
    {
     "data": {
      "text/plain": [
       "(11.357392292926814,\n",
       " 0.00994227539398323,\n",
       " 3,\n",
       " array([[ 2809.72616169, 16253.27383831],\n",
       "        [ 4548.21013992, 26309.78986008],\n",
       "        [ 3528.11284332, 20408.88715668],\n",
       "        [ 2765.95085507, 16000.04914493]]))"
      ]
     },
     "execution_count": 73,
     "metadata": {},
     "output_type": "execute_result"
    }
   ],
   "source": [
    "chi2_contingency(pd.crosstab(df['issue_d'],df['loan_status']))"
   ]
  },
  {
   "cell_type": "code",
   "execution_count": 74,
   "metadata": {},
   "outputs": [
    {
     "data": {
      "text/plain": [
       "(0.0, 1.0, 0, array([[13652., 78972.]]))"
      ]
     },
     "execution_count": 74,
     "metadata": {},
     "output_type": "execute_result"
    }
   ],
   "source": [
    "chi2_contingency(pd.crosstab(df['pymnt_plan'],df['loan_status']))"
   ]
  },
  {
   "cell_type": "code",
   "execution_count": 75,
   "metadata": {},
   "outputs": [
    {
     "data": {
      "text/plain": [
       "(307.1655639815011,\n",
       " 1.4677554658578412e-58,\n",
       " 12,\n",
       " array([[1.36337234e+02, 7.88662766e+02],\n",
       "        [3.44999529e+03, 1.99570047e+04],\n",
       "        [7.71020224e+03, 4.46007978e+04],\n",
       "        [8.57819140e+02, 4.96218086e+03],\n",
       "        [4.96709708e+01, 2.87329029e+02],\n",
       "        [2.62651840e+02, 1.51934816e+03],\n",
       "        [1.44296381e+02, 8.34703619e+02],\n",
       "        [1.10543704e+02, 6.39456296e+02],\n",
       "        [6.98046640e+02, 4.03795336e+03],\n",
       "        [8.84349629e+00, 5.11565037e+01],\n",
       "        [1.08922396e+02, 6.30077604e+02],\n",
       "        [1.14523277e+02, 6.62476723e+02],\n",
       "        [1.47391605e-01, 8.52608395e-01]]))"
      ]
     },
     "execution_count": 75,
     "metadata": {},
     "output_type": "execute_result"
    }
   ],
   "source": [
    "chi2_contingency(pd.crosstab(df['purpose'],df['loan_status']))"
   ]
  },
  {
   "cell_type": "code",
   "execution_count": 76,
   "metadata": {},
   "outputs": [
    {
     "data": {
      "text/plain": [
       "(308.57740816371745,\n",
       " 1.3635879891134396e-59,\n",
       " 11,\n",
       " array([[1.08922396e+02, 6.30077604e+02],\n",
       "        [1.36337234e+02, 7.88662766e+02],\n",
       "        [3.45250095e+03, 1.99714990e+04],\n",
       "        [7.71049702e+03, 4.46025030e+04],\n",
       "        [8.69610468e+00, 5.03038953e+01],\n",
       "        [4.96709708e+01, 2.87329029e+02],\n",
       "        [8.57819140e+02, 4.96218086e+03],\n",
       "        [2.62062273e+02, 1.51593773e+03],\n",
       "        [1.43854206e+02, 8.32145794e+02],\n",
       "        [1.10838487e+02, 6.41161513e+02],\n",
       "        [6.96425333e+02, 4.02857467e+03],\n",
       "        [1.14375885e+02, 6.61624115e+02]]))"
      ]
     },
     "execution_count": 76,
     "metadata": {},
     "output_type": "execute_result"
    }
   ],
   "source": [
    "chi2_contingency(pd.crosstab(df['title'],df['loan_status']))"
   ]
  },
  {
   "cell_type": "code",
   "execution_count": 77,
   "metadata": {},
   "outputs": [
    {
     "data": {
      "text/plain": [
       "(1318.9139510203042,\n",
       " 9.115434887758029e-21,\n",
       " 873,\n",
       " array([[1.47391605e-01, 8.52608395e-01],\n",
       "        [2.59409224e+01, 1.50059078e+02],\n",
       "        [6.19044740e+00, 3.58095526e+01],\n",
       "        ...,\n",
       "        [4.86392296e+00, 2.81360770e+01],\n",
       "        [2.65304889e+00, 1.53469511e+01],\n",
       "        [7.36958024e-01, 4.26304198e+00]]))"
      ]
     },
     "execution_count": 77,
     "metadata": {},
     "output_type": "execute_result"
    }
   ],
   "source": [
    "chi2_contingency(pd.crosstab(df['zip_code'],df['loan_status']))"
   ]
  },
  {
   "cell_type": "code",
   "execution_count": 78,
   "metadata": {},
   "outputs": [
    {
     "data": {
      "text/plain": [
       "(271.18507854675454,\n",
       " 6.634259358232339e-33,\n",
       " 48,\n",
       " array([[2.74148385e+01, 1.58585162e+02],\n",
       "        [1.60951632e+02, 9.31048368e+02],\n",
       "        [1.02437165e+02, 5.92562835e+02],\n",
       "        [3.22198048e+02, 1.86380195e+03],\n",
       "        [2.02029673e+03, 1.16867033e+04],\n",
       "        [2.84613189e+02, 1.64638681e+03],\n",
       "        [2.14602177e+02, 1.24139782e+03],\n",
       "        [3.00678874e+01, 1.73932113e+02],\n",
       "        [4.14170409e+01, 2.39582959e+02],\n",
       "        [9.98135947e+02, 5.77386405e+03],\n",
       "        [4.50428744e+02, 2.60557126e+03],\n",
       "        [5.93988167e+01, 3.43601183e+02],\n",
       "        [5.73795517e+02, 3.31920448e+03],\n",
       "        [2.12980869e+02, 1.23201913e+03],\n",
       "        [1.14375885e+02, 6.61624115e+02],\n",
       "        [1.23514165e+02, 7.14485835e+02],\n",
       "        [1.64194248e+02, 9.49805752e+02],\n",
       "        [3.29420237e+02, 1.90557976e+03],\n",
       "        [3.16154992e+02, 1.82884501e+03],\n",
       "        [2.94783210e+00, 1.70521679e+01],\n",
       "        [3.79828165e+02, 2.19717183e+03],\n",
       "        [2.39216575e+02, 1.38378343e+03],\n",
       "        [2.06495638e+02, 1.19450436e+03],\n",
       "        [7.97388582e+01, 4.61261142e+02],\n",
       "        [3.49318103e+01, 2.02068190e+02],\n",
       "        [3.54476809e+02, 2.05052319e+03],\n",
       "        [6.63262221e+00, 3.83673778e+01],\n",
       "        [5.01131456e+01, 2.89886854e+02],\n",
       "        [6.63262221e+01, 3.83673778e+02],\n",
       "        [5.04226680e+02, 2.91677332e+03],\n",
       "        [7.47275436e+01, 4.32272456e+02],\n",
       "        [2.03989981e+02, 1.18001002e+03],\n",
       "        [1.13904232e+03, 6.58895768e+03],\n",
       "        [4.48954828e+02, 2.59704517e+03],\n",
       "        [1.23661556e+02, 7.15338444e+02],\n",
       "        [1.52402919e+02, 8.81597081e+02],\n",
       "        [4.43353947e+02, 2.56464605e+03],\n",
       "        [6.42627397e+01, 3.71737260e+02],\n",
       "        [1.52255528e+02, 8.80744472e+02],\n",
       "        [2.57935308e+01, 1.49206469e+02],\n",
       "        [2.01336932e+02, 1.16466307e+03],\n",
       "        [1.13830536e+03, 6.58469464e+03],\n",
       "        [8.09179910e+01, 4.68082009e+02],\n",
       "        [3.58898558e+02, 2.07610144e+03],\n",
       "        [2.88887545e+01, 1.67111245e+02],\n",
       "        [2.76948825e+02, 1.60205117e+03],\n",
       "        [1.80407324e+02, 1.04359268e+03],\n",
       "        [5.83670755e+01, 3.37632925e+02],\n",
       "        [2.81517965e+01, 1.62848203e+02]]))"
      ]
     },
     "execution_count": 78,
     "metadata": {},
     "output_type": "execute_result"
    }
   ],
   "source": [
    "chi2_contingency(pd.crosstab(df['addr_state'],df['loan_status']))"
   ]
  },
  {
   "cell_type": "code",
   "execution_count": 79,
   "metadata": {},
   "outputs": [
    {
     "data": {
      "text/plain": [
       "(4683.890871259662,\n",
       " 5.855309907193807e-14,\n",
       " 3985,\n",
       " array([[ 2.35826568, 13.64173432],\n",
       "        [ 0.29478321,  1.70521679],\n",
       "        [ 0.29478321,  1.70521679],\n",
       "        ...,\n",
       "        [ 0.44217481,  2.55782519],\n",
       "        [ 0.58956642,  3.41043358],\n",
       "        [ 0.58956642,  3.41043358]]))"
      ]
     },
     "execution_count": 79,
     "metadata": {},
     "output_type": "execute_result"
    }
   ],
   "source": [
    "chi2_contingency(pd.crosstab(df['dti'],df['loan_status']))"
   ]
  },
  {
   "cell_type": "code",
   "execution_count": 80,
   "metadata": {},
   "outputs": [
    {
     "data": {
      "text/plain": [
       "(4683.890871259662,\n",
       " 5.855309907193807e-14,\n",
       " 3985,\n",
       " array([[ 2.35826568, 13.64173432],\n",
       "        [ 0.29478321,  1.70521679],\n",
       "        [ 0.29478321,  1.70521679],\n",
       "        ...,\n",
       "        [ 0.44217481,  2.55782519],\n",
       "        [ 0.58956642,  3.41043358],\n",
       "        [ 0.58956642,  3.41043358]]))"
      ]
     },
     "execution_count": 80,
     "metadata": {},
     "output_type": "execute_result"
    }
   ],
   "source": [
    "chi2_contingency(pd.crosstab(df['dti'],df['loan_status']))"
   ]
  },
  {
   "cell_type": "code",
   "execution_count": 81,
   "metadata": {},
   "outputs": [
    {
     "data": {
      "text/plain": [
       "array(['loan_amnt', 'funded_amnt', 'funded_amnt_inv', 'term', 'int_rate',\n",
       "       'installment', 'grade', 'sub_grade', 'emp_title', 'emp_length',\n",
       "       'home_ownership', 'annual_inc', 'verification_status', 'issue_d',\n",
       "       'loan_status', 'pymnt_plan', 'purpose', 'title', 'zip_code',\n",
       "       'addr_state', 'dti', 'delinq_2yrs', 'earliest_cr_line',\n",
       "       'fico_range_low', 'fico_range_high', 'inq_last_6mths', 'open_acc',\n",
       "       'pub_rec', 'revol_bal', 'revol_util', 'total_acc',\n",
       "       'initial_list_status', 'out_prncp', 'out_prncp_inv', 'total_pymnt',\n",
       "       'total_pymnt_inv', 'total_rec_prncp', 'total_rec_int',\n",
       "       'total_rec_late_fee', 'recoveries', 'collection_recovery_fee',\n",
       "       'last_pymnt_d', 'last_pymnt_amnt', 'last_credit_pull_d',\n",
       "       'last_fico_range_high', 'last_fico_range_low',\n",
       "       'collections_12_mths_ex_med', 'policy_code', 'application_type',\n",
       "       'acc_now_delinq', 'tot_coll_amt', 'tot_cur_bal',\n",
       "       'total_rev_hi_lim', 'acc_open_past_24mths', 'avg_cur_bal',\n",
       "       'bc_open_to_buy', 'bc_util', 'chargeoff_within_12_mths',\n",
       "       'delinq_amnt', 'mo_sin_old_il_acct', 'mo_sin_old_rev_tl_op',\n",
       "       'mo_sin_rcnt_rev_tl_op', 'mo_sin_rcnt_tl', 'mort_acc',\n",
       "       'mths_since_recent_bc', 'mths_since_recent_inq',\n",
       "       'num_accts_ever_120_pd', 'num_actv_bc_tl', 'num_actv_rev_tl',\n",
       "       'num_bc_sats', 'num_bc_tl', 'num_il_tl', 'num_op_rev_tl',\n",
       "       'num_rev_accts', 'num_rev_tl_bal_gt_0', 'num_sats',\n",
       "       'num_tl_120dpd_2m', 'num_tl_30dpd', 'num_tl_90g_dpd_24m',\n",
       "       'num_tl_op_past_12m', 'pct_tl_nvr_dlq', 'percent_bc_gt_75',\n",
       "       'pub_rec_bankruptcies', 'tax_liens', 'tot_hi_cred_lim',\n",
       "       'total_bal_ex_mort', 'total_bc_limit',\n",
       "       'total_il_high_credit_limit', 'hardship_flag',\n",
       "       'debt_settlement_flag'], dtype=object)"
      ]
     },
     "execution_count": 81,
     "metadata": {},
     "output_type": "execute_result"
    }
   ],
   "source": [
    "arr=np.array(df.columns)\n",
    "arr"
   ]
  },
  {
   "cell_type": "code",
   "execution_count": 82,
   "metadata": {},
   "outputs": [
    {
     "data": {
      "text/plain": [
       "90"
      ]
     },
     "execution_count": 82,
     "metadata": {},
     "output_type": "execute_result"
    }
   ],
   "source": [
    "len(arr)"
   ]
  },
  {
   "cell_type": "code",
   "execution_count": 83,
   "metadata": {},
   "outputs": [],
   "source": [
    "arr1=arr[0:10]\n",
    "arr2=arr[11:20]\n",
    "arr3=arr[21:30]\n",
    "arr4=arr[31:40]\n",
    "arr5=arr[41:50]\n",
    "arr6=arr[51:60]\n",
    "arr7=arr[61:70]\n",
    "arr8=arr[71:80]\n",
    "arr9=arr[81:90]"
   ]
  },
  {
   "cell_type": "code",
   "execution_count": 84,
   "metadata": {},
   "outputs": [
    {
     "data": {
      "text/html": [
       "<div>\n",
       "<style scoped>\n",
       "    .dataframe tbody tr th:only-of-type {\n",
       "        vertical-align: middle;\n",
       "    }\n",
       "\n",
       "    .dataframe tbody tr th {\n",
       "        vertical-align: top;\n",
       "    }\n",
       "\n",
       "    .dataframe thead th {\n",
       "        text-align: right;\n",
       "    }\n",
       "</style>\n",
       "<table border=\"1\" class=\"dataframe\">\n",
       "  <thead>\n",
       "    <tr style=\"text-align: right;\">\n",
       "      <th></th>\n",
       "      <th>loan_amnt</th>\n",
       "      <th>funded_amnt</th>\n",
       "      <th>funded_amnt_inv</th>\n",
       "      <th>installment</th>\n",
       "    </tr>\n",
       "  </thead>\n",
       "  <tbody>\n",
       "    <tr>\n",
       "      <th>loan_amnt</th>\n",
       "      <td>1.000000</td>\n",
       "      <td>1.000000</td>\n",
       "      <td>0.999996</td>\n",
       "      <td>0.994594</td>\n",
       "    </tr>\n",
       "    <tr>\n",
       "      <th>funded_amnt</th>\n",
       "      <td>1.000000</td>\n",
       "      <td>1.000000</td>\n",
       "      <td>0.999996</td>\n",
       "      <td>0.994594</td>\n",
       "    </tr>\n",
       "    <tr>\n",
       "      <th>funded_amnt_inv</th>\n",
       "      <td>0.999996</td>\n",
       "      <td>0.999996</td>\n",
       "      <td>1.000000</td>\n",
       "      <td>0.994547</td>\n",
       "    </tr>\n",
       "    <tr>\n",
       "      <th>installment</th>\n",
       "      <td>0.994594</td>\n",
       "      <td>0.994594</td>\n",
       "      <td>0.994547</td>\n",
       "      <td>1.000000</td>\n",
       "    </tr>\n",
       "  </tbody>\n",
       "</table>\n",
       "</div>"
      ],
      "text/plain": [
       "                 loan_amnt  funded_amnt  funded_amnt_inv  installment\n",
       "loan_amnt         1.000000     1.000000         0.999996     0.994594\n",
       "funded_amnt       1.000000     1.000000         0.999996     0.994594\n",
       "funded_amnt_inv   0.999996     0.999996         1.000000     0.994547\n",
       "installment       0.994594     0.994594         0.994547     1.000000"
      ]
     },
     "execution_count": 84,
     "metadata": {},
     "output_type": "execute_result"
    }
   ],
   "source": [
    "df[arr1].corr()"
   ]
  },
  {
   "cell_type": "code",
   "execution_count": 85,
   "metadata": {},
   "outputs": [],
   "source": [
    "nd = df.select_dtypes(include=[np.number])\n",
    "cd = df.select_dtypes(exclude=[np.number])"
   ]
  },
  {
   "cell_type": "code",
   "execution_count": 86,
   "metadata": {},
   "outputs": [
    {
     "data": {
      "text/plain": [
       "(92624, 67)"
      ]
     },
     "execution_count": 86,
     "metadata": {},
     "output_type": "execute_result"
    }
   ],
   "source": [
    "nd.shape"
   ]
  },
  {
   "cell_type": "code",
   "execution_count": 87,
   "metadata": {},
   "outputs": [
    {
     "data": {
      "text/plain": [
       "(92624, 23)"
      ]
     },
     "execution_count": 87,
     "metadata": {},
     "output_type": "execute_result"
    }
   ],
   "source": [
    "cd.shape"
   ]
  },
  {
   "cell_type": "code",
   "execution_count": 88,
   "metadata": {},
   "outputs": [
    {
     "data": {
      "text/plain": [
       "(92624, 23)"
      ]
     },
     "execution_count": 88,
     "metadata": {},
     "output_type": "execute_result"
    }
   ],
   "source": [
    "cd.shape"
   ]
  },
  {
   "cell_type": "code",
   "execution_count": 89,
   "metadata": {},
   "outputs": [
    {
     "data": {
      "text/html": [
       "<div>\n",
       "<style scoped>\n",
       "    .dataframe tbody tr th:only-of-type {\n",
       "        vertical-align: middle;\n",
       "    }\n",
       "\n",
       "    .dataframe tbody tr th {\n",
       "        vertical-align: top;\n",
       "    }\n",
       "\n",
       "    .dataframe thead th {\n",
       "        text-align: right;\n",
       "    }\n",
       "</style>\n",
       "<table border=\"1\" class=\"dataframe\">\n",
       "  <thead>\n",
       "    <tr style=\"text-align: right;\">\n",
       "      <th></th>\n",
       "      <th>loan_amnt</th>\n",
       "      <th>funded_amnt</th>\n",
       "      <th>funded_amnt_inv</th>\n",
       "      <th>installment</th>\n",
       "      <th>annual_inc</th>\n",
       "      <th>dti</th>\n",
       "      <th>delinq_2yrs</th>\n",
       "      <th>fico_range_low</th>\n",
       "      <th>fico_range_high</th>\n",
       "      <th>inq_last_6mths</th>\n",
       "      <th>...</th>\n",
       "      <th>num_tl_90g_dpd_24m</th>\n",
       "      <th>num_tl_op_past_12m</th>\n",
       "      <th>pct_tl_nvr_dlq</th>\n",
       "      <th>percent_bc_gt_75</th>\n",
       "      <th>pub_rec_bankruptcies</th>\n",
       "      <th>tax_liens</th>\n",
       "      <th>tot_hi_cred_lim</th>\n",
       "      <th>total_bal_ex_mort</th>\n",
       "      <th>total_bc_limit</th>\n",
       "      <th>total_il_high_credit_limit</th>\n",
       "    </tr>\n",
       "  </thead>\n",
       "  <tbody>\n",
       "    <tr>\n",
       "      <th>0</th>\n",
       "      <td>7000</td>\n",
       "      <td>7000</td>\n",
       "      <td>7000</td>\n",
       "      <td>239.21</td>\n",
       "      <td>78000.0</td>\n",
       "      <td>21.62</td>\n",
       "      <td>1</td>\n",
       "      <td>660</td>\n",
       "      <td>664</td>\n",
       "      <td>0</td>\n",
       "      <td>...</td>\n",
       "      <td>0</td>\n",
       "      <td>3</td>\n",
       "      <td>95.0</td>\n",
       "      <td>66.7</td>\n",
       "      <td>0</td>\n",
       "      <td>0</td>\n",
       "      <td>68213</td>\n",
       "      <td>59105</td>\n",
       "      <td>6000</td>\n",
       "      <td>61113</td>\n",
       "    </tr>\n",
       "    <tr>\n",
       "      <th>1</th>\n",
       "      <td>6000</td>\n",
       "      <td>6000</td>\n",
       "      <td>6000</td>\n",
       "      <td>205.04</td>\n",
       "      <td>30000.0</td>\n",
       "      <td>25.28</td>\n",
       "      <td>0</td>\n",
       "      <td>685</td>\n",
       "      <td>689</td>\n",
       "      <td>1</td>\n",
       "      <td>...</td>\n",
       "      <td>0</td>\n",
       "      <td>3</td>\n",
       "      <td>100.0</td>\n",
       "      <td>40.0</td>\n",
       "      <td>0</td>\n",
       "      <td>0</td>\n",
       "      <td>117932</td>\n",
       "      <td>29181</td>\n",
       "      <td>19700</td>\n",
       "      <td>18962</td>\n",
       "    </tr>\n",
       "    <tr>\n",
       "      <th>2</th>\n",
       "      <td>4000</td>\n",
       "      <td>4000</td>\n",
       "      <td>4000</td>\n",
       "      <td>133.42</td>\n",
       "      <td>16400.0</td>\n",
       "      <td>38.73</td>\n",
       "      <td>7</td>\n",
       "      <td>660</td>\n",
       "      <td>664</td>\n",
       "      <td>0</td>\n",
       "      <td>...</td>\n",
       "      <td>6</td>\n",
       "      <td>0</td>\n",
       "      <td>63.6</td>\n",
       "      <td>100.0</td>\n",
       "      <td>0</td>\n",
       "      <td>0</td>\n",
       "      <td>38725</td>\n",
       "      <td>39380</td>\n",
       "      <td>9200</td>\n",
       "      <td>26325</td>\n",
       "    </tr>\n",
       "    <tr>\n",
       "      <th>3</th>\n",
       "      <td>12000</td>\n",
       "      <td>12000</td>\n",
       "      <td>12000</td>\n",
       "      <td>400.24</td>\n",
       "      <td>80000.0</td>\n",
       "      <td>9.69</td>\n",
       "      <td>0</td>\n",
       "      <td>665</td>\n",
       "      <td>669</td>\n",
       "      <td>0</td>\n",
       "      <td>...</td>\n",
       "      <td>0</td>\n",
       "      <td>1</td>\n",
       "      <td>100.0</td>\n",
       "      <td>66.7</td>\n",
       "      <td>1</td>\n",
       "      <td>0</td>\n",
       "      <td>28224</td>\n",
       "      <td>14015</td>\n",
       "      <td>9200</td>\n",
       "      <td>11524</td>\n",
       "    </tr>\n",
       "    <tr>\n",
       "      <th>4</th>\n",
       "      <td>2500</td>\n",
       "      <td>2500</td>\n",
       "      <td>2500</td>\n",
       "      <td>90.21</td>\n",
       "      <td>50000.0</td>\n",
       "      <td>20.38</td>\n",
       "      <td>0</td>\n",
       "      <td>675</td>\n",
       "      <td>679</td>\n",
       "      <td>1</td>\n",
       "      <td>...</td>\n",
       "      <td>0</td>\n",
       "      <td>2</td>\n",
       "      <td>100.0</td>\n",
       "      <td>60.0</td>\n",
       "      <td>0</td>\n",
       "      <td>0</td>\n",
       "      <td>52613</td>\n",
       "      <td>49340</td>\n",
       "      <td>11600</td>\n",
       "      <td>36513</td>\n",
       "    </tr>\n",
       "  </tbody>\n",
       "</table>\n",
       "<p>5 rows × 67 columns</p>\n",
       "</div>"
      ],
      "text/plain": [
       "   loan_amnt  funded_amnt  funded_amnt_inv  installment  annual_inc    dti  \\\n",
       "0       7000         7000             7000       239.21     78000.0  21.62   \n",
       "1       6000         6000             6000       205.04     30000.0  25.28   \n",
       "2       4000         4000             4000       133.42     16400.0  38.73   \n",
       "3      12000        12000            12000       400.24     80000.0   9.69   \n",
       "4       2500         2500             2500        90.21     50000.0  20.38   \n",
       "\n",
       "   delinq_2yrs  fico_range_low  fico_range_high  inq_last_6mths  ...  \\\n",
       "0            1             660              664               0  ...   \n",
       "1            0             685              689               1  ...   \n",
       "2            7             660              664               0  ...   \n",
       "3            0             665              669               0  ...   \n",
       "4            0             675              679               1  ...   \n",
       "\n",
       "   num_tl_90g_dpd_24m  num_tl_op_past_12m  pct_tl_nvr_dlq  percent_bc_gt_75  \\\n",
       "0                   0                   3            95.0              66.7   \n",
       "1                   0                   3           100.0              40.0   \n",
       "2                   6                   0            63.6             100.0   \n",
       "3                   0                   1           100.0              66.7   \n",
       "4                   0                   2           100.0              60.0   \n",
       "\n",
       "   pub_rec_bankruptcies  tax_liens  tot_hi_cred_lim  total_bal_ex_mort  \\\n",
       "0                     0          0            68213              59105   \n",
       "1                     0          0           117932              29181   \n",
       "2                     0          0            38725              39380   \n",
       "3                     1          0            28224              14015   \n",
       "4                     0          0            52613              49340   \n",
       "\n",
       "   total_bc_limit  total_il_high_credit_limit  \n",
       "0            6000                       61113  \n",
       "1           19700                       18962  \n",
       "2            9200                       26325  \n",
       "3            9200                       11524  \n",
       "4           11600                       36513  \n",
       "\n",
       "[5 rows x 67 columns]"
      ]
     },
     "execution_count": 89,
     "metadata": {},
     "output_type": "execute_result"
    }
   ],
   "source": [
    "nd.head()"
   ]
  },
  {
   "cell_type": "code",
   "execution_count": 90,
   "metadata": {},
   "outputs": [
    {
     "data": {
      "text/html": [
       "<div>\n",
       "<style scoped>\n",
       "    .dataframe tbody tr th:only-of-type {\n",
       "        vertical-align: middle;\n",
       "    }\n",
       "\n",
       "    .dataframe tbody tr th {\n",
       "        vertical-align: top;\n",
       "    }\n",
       "\n",
       "    .dataframe thead th {\n",
       "        text-align: right;\n",
       "    }\n",
       "</style>\n",
       "<table border=\"1\" class=\"dataframe\">\n",
       "  <thead>\n",
       "    <tr style=\"text-align: right;\">\n",
       "      <th></th>\n",
       "      <th>term</th>\n",
       "      <th>int_rate</th>\n",
       "      <th>grade</th>\n",
       "      <th>sub_grade</th>\n",
       "      <th>emp_title</th>\n",
       "      <th>emp_length</th>\n",
       "      <th>home_ownership</th>\n",
       "      <th>verification_status</th>\n",
       "      <th>issue_d</th>\n",
       "      <th>loan_status</th>\n",
       "      <th>...</th>\n",
       "      <th>zip_code</th>\n",
       "      <th>addr_state</th>\n",
       "      <th>earliest_cr_line</th>\n",
       "      <th>revol_util</th>\n",
       "      <th>initial_list_status</th>\n",
       "      <th>last_pymnt_d</th>\n",
       "      <th>last_credit_pull_d</th>\n",
       "      <th>application_type</th>\n",
       "      <th>hardship_flag</th>\n",
       "      <th>debt_settlement_flag</th>\n",
       "    </tr>\n",
       "  </thead>\n",
       "  <tbody>\n",
       "    <tr>\n",
       "      <th>0</th>\n",
       "      <td>36 months</td>\n",
       "      <td>13.99%</td>\n",
       "      <td>C</td>\n",
       "      <td>C4</td>\n",
       "      <td>facility operator</td>\n",
       "      <td>2 years</td>\n",
       "      <td>RENT</td>\n",
       "      <td>Verified</td>\n",
       "      <td>2015-09-01T00:00:00Z</td>\n",
       "      <td>Charged Off</td>\n",
       "      <td>...</td>\n",
       "      <td>585xx</td>\n",
       "      <td>ND</td>\n",
       "      <td>Sep-2011</td>\n",
       "      <td>80.2%</td>\n",
       "      <td>f</td>\n",
       "      <td>Nov-2016</td>\n",
       "      <td>Jul-2019</td>\n",
       "      <td>Individual</td>\n",
       "      <td>N</td>\n",
       "      <td>N</td>\n",
       "    </tr>\n",
       "    <tr>\n",
       "      <th>1</th>\n",
       "      <td>36 months</td>\n",
       "      <td>13.99%</td>\n",
       "      <td>C</td>\n",
       "      <td>C4</td>\n",
       "      <td>Team Lead</td>\n",
       "      <td>10+ years</td>\n",
       "      <td>MORTGAGE</td>\n",
       "      <td>Verified</td>\n",
       "      <td>2015-09-01T00:00:00Z</td>\n",
       "      <td>Charged Off</td>\n",
       "      <td>...</td>\n",
       "      <td>146xx</td>\n",
       "      <td>NY</td>\n",
       "      <td>Nov-2009</td>\n",
       "      <td>51.1%</td>\n",
       "      <td>f</td>\n",
       "      <td>Nov-2016</td>\n",
       "      <td>Jun-2017</td>\n",
       "      <td>Individual</td>\n",
       "      <td>N</td>\n",
       "      <td>N</td>\n",
       "    </tr>\n",
       "    <tr>\n",
       "      <th>2</th>\n",
       "      <td>36 months</td>\n",
       "      <td>12.29%</td>\n",
       "      <td>C</td>\n",
       "      <td>C1</td>\n",
       "      <td>Production Painter</td>\n",
       "      <td>1 year</td>\n",
       "      <td>RENT</td>\n",
       "      <td>Not Verified</td>\n",
       "      <td>2015-09-01T00:00:00Z</td>\n",
       "      <td>Charged Off</td>\n",
       "      <td>...</td>\n",
       "      <td>973xx</td>\n",
       "      <td>OR</td>\n",
       "      <td>Jul-2005</td>\n",
       "      <td>67.2%</td>\n",
       "      <td>f</td>\n",
       "      <td>Aug-2018</td>\n",
       "      <td>Oct-2016</td>\n",
       "      <td>Individual</td>\n",
       "      <td>N</td>\n",
       "      <td>N</td>\n",
       "    </tr>\n",
       "    <tr>\n",
       "      <th>3</th>\n",
       "      <td>36 months</td>\n",
       "      <td>12.29%</td>\n",
       "      <td>C</td>\n",
       "      <td>C1</td>\n",
       "      <td>Security Hospital Treatment Aide</td>\n",
       "      <td>10+ years</td>\n",
       "      <td>RENT</td>\n",
       "      <td>Not Verified</td>\n",
       "      <td>2015-09-01T00:00:00Z</td>\n",
       "      <td>Charged Off</td>\n",
       "      <td>...</td>\n",
       "      <td>100xx</td>\n",
       "      <td>NY</td>\n",
       "      <td>May-2006</td>\n",
       "      <td>48.5%</td>\n",
       "      <td>f</td>\n",
       "      <td>Mar-2018</td>\n",
       "      <td>Nov-2019</td>\n",
       "      <td>Individual</td>\n",
       "      <td>N</td>\n",
       "      <td>Y</td>\n",
       "    </tr>\n",
       "    <tr>\n",
       "      <th>4</th>\n",
       "      <td>36 months</td>\n",
       "      <td>17.86%</td>\n",
       "      <td>D</td>\n",
       "      <td>D5</td>\n",
       "      <td>Marketing Manager</td>\n",
       "      <td>5 years</td>\n",
       "      <td>RENT</td>\n",
       "      <td>Source Verified</td>\n",
       "      <td>2015-09-01T00:00:00Z</td>\n",
       "      <td>Fully Paid</td>\n",
       "      <td>...</td>\n",
       "      <td>900xx</td>\n",
       "      <td>CA</td>\n",
       "      <td>Oct-2005</td>\n",
       "      <td>81.5%</td>\n",
       "      <td>f</td>\n",
       "      <td>Aug-2017</td>\n",
       "      <td>Nov-2019</td>\n",
       "      <td>Individual</td>\n",
       "      <td>N</td>\n",
       "      <td>N</td>\n",
       "    </tr>\n",
       "  </tbody>\n",
       "</table>\n",
       "<p>5 rows × 23 columns</p>\n",
       "</div>"
      ],
      "text/plain": [
       "        term int_rate grade sub_grade                         emp_title  \\\n",
       "0  36 months   13.99%     C        C4                 facility operator   \n",
       "1  36 months   13.99%     C        C4                         Team Lead   \n",
       "2  36 months   12.29%     C        C1                Production Painter   \n",
       "3  36 months   12.29%     C        C1  Security Hospital Treatment Aide   \n",
       "4  36 months   17.86%     D        D5                 Marketing Manager   \n",
       "\n",
       "  emp_length home_ownership verification_status               issue_d  \\\n",
       "0    2 years           RENT            Verified  2015-09-01T00:00:00Z   \n",
       "1  10+ years       MORTGAGE            Verified  2015-09-01T00:00:00Z   \n",
       "2     1 year           RENT        Not Verified  2015-09-01T00:00:00Z   \n",
       "3  10+ years           RENT        Not Verified  2015-09-01T00:00:00Z   \n",
       "4    5 years           RENT     Source Verified  2015-09-01T00:00:00Z   \n",
       "\n",
       "   loan_status  ... zip_code addr_state earliest_cr_line revol_util  \\\n",
       "0  Charged Off  ...    585xx         ND         Sep-2011      80.2%   \n",
       "1  Charged Off  ...    146xx         NY         Nov-2009      51.1%   \n",
       "2  Charged Off  ...    973xx         OR         Jul-2005      67.2%   \n",
       "3  Charged Off  ...    100xx         NY         May-2006      48.5%   \n",
       "4   Fully Paid  ...    900xx         CA         Oct-2005      81.5%   \n",
       "\n",
       "  initial_list_status last_pymnt_d last_credit_pull_d application_type  \\\n",
       "0                   f     Nov-2016           Jul-2019       Individual   \n",
       "1                   f     Nov-2016           Jun-2017       Individual   \n",
       "2                   f     Aug-2018           Oct-2016       Individual   \n",
       "3                   f     Mar-2018           Nov-2019       Individual   \n",
       "4                   f     Aug-2017           Nov-2019       Individual   \n",
       "\n",
       "  hardship_flag debt_settlement_flag  \n",
       "0             N                    N  \n",
       "1             N                    N  \n",
       "2             N                    N  \n",
       "3             N                    Y  \n",
       "4             N                    N  \n",
       "\n",
       "[5 rows x 23 columns]"
      ]
     },
     "execution_count": 90,
     "metadata": {},
     "output_type": "execute_result"
    }
   ],
   "source": [
    "cd.head()"
   ]
  },
  {
   "cell_type": "code",
   "execution_count": 91,
   "metadata": {},
   "outputs": [
    {
     "data": {
      "text/plain": [
       "36 months    92624\n",
       "Name: term, dtype: int64"
      ]
     },
     "execution_count": 91,
     "metadata": {},
     "output_type": "execute_result"
    }
   ],
   "source": [
    "cd['term'].value_counts()"
   ]
  },
  {
   "cell_type": "code",
   "execution_count": 92,
   "metadata": {},
   "outputs": [
    {
     "data": {
      "text/plain": [
       "<matplotlib.axes._subplots.AxesSubplot at 0x1fc1a23cc88>"
      ]
     },
     "execution_count": 92,
     "metadata": {},
     "output_type": "execute_result"
    },
    {
     "data": {
      "image/png": "[encoded data removed]",
      "text/plain": [
       "<Figure size 432x288 with 1 Axes>"
      ]
     },
     "metadata": {
      "needs_background": "light"
     },
     "output_type": "display_data"
    }
   ],
   "source": [
    "pd.crosstab(df['home_ownership'],df['loan_status']).plot.bar()"
   ]
  },
  {
   "cell_type": "code",
   "execution_count": 93,
   "metadata": {},
   "outputs": [
    {
     "data": {
      "text/html": [
       "<div>\n",
       "<style scoped>\n",
       "    .dataframe tbody tr th:only-of-type {\n",
       "        vertical-align: middle;\n",
       "    }\n",
       "\n",
       "    .dataframe tbody tr th {\n",
       "        vertical-align: top;\n",
       "    }\n",
       "\n",
       "    .dataframe thead th {\n",
       "        text-align: right;\n",
       "    }\n",
       "</style>\n",
       "<table border=\"1\" class=\"dataframe\">\n",
       "  <thead>\n",
       "    <tr style=\"text-align: right;\">\n",
       "      <th>loan_status</th>\n",
       "      <th>Charged Off</th>\n",
       "      <th>Fully Paid</th>\n",
       "    </tr>\n",
       "    <tr>\n",
       "      <th>home_ownership</th>\n",
       "      <th></th>\n",
       "      <th></th>\n",
       "    </tr>\n",
       "  </thead>\n",
       "  <tbody>\n",
       "    <tr>\n",
       "      <th>MORTGAGE</th>\n",
       "      <td>5101</td>\n",
       "      <td>37466</td>\n",
       "    </tr>\n",
       "    <tr>\n",
       "      <th>OWN</th>\n",
       "      <td>1593</td>\n",
       "      <td>8829</td>\n",
       "    </tr>\n",
       "    <tr>\n",
       "      <th>RENT</th>\n",
       "      <td>6958</td>\n",
       "      <td>32677</td>\n",
       "    </tr>\n",
       "  </tbody>\n",
       "</table>\n",
       "</div>"
      ],
      "text/plain": [
       "loan_status     Charged Off  Fully Paid\n",
       "home_ownership                         \n",
       "MORTGAGE               5101       37466\n",
       "OWN                    1593        8829\n",
       "RENT                   6958       32677"
      ]
     },
     "execution_count": 93,
     "metadata": {},
     "output_type": "execute_result"
    }
   ],
   "source": [
    "pd.crosstab(df['home_ownership'],df['loan_status'])"
   ]
  },
  {
   "cell_type": "code",
   "execution_count": 94,
   "metadata": {},
   "outputs": [
    {
     "data": {
      "text/plain": [
       "Source Verified    39282\n",
       "Not Verified       27963\n",
       "Verified           25379\n",
       "Name: verification_status, dtype: int64"
      ]
     },
     "execution_count": 94,
     "metadata": {},
     "output_type": "execute_result"
    }
   ],
   "source": [
    "cd['verification_status'].value_counts()"
   ]
  },
  {
   "cell_type": "code",
   "execution_count": 95,
   "metadata": {},
   "outputs": [
    {
     "data": {
      "text/plain": [
       "<matplotlib.axes._subplots.AxesSubplot at 0x1fc1a1789c8>"
      ]
     },
     "execution_count": 95,
     "metadata": {},
     "output_type": "execute_result"
    },
    {
     "data": {
      "image/png": "[encoded data removed]",
      "text/plain": [
       "<Figure size 432x288 with 1 Axes>"
      ]
     },
     "metadata": {
      "needs_background": "light"
     },
     "output_type": "display_data"
    }
   ],
   "source": [
    "pd.crosstab(df['verification_status'],df['loan_status']).plot.bar()"
   ]
  },
  {
   "cell_type": "code",
   "execution_count": 96,
   "metadata": {},
   "outputs": [
    {
     "data": {
      "text/html": [
       "<div>\n",
       "<style scoped>\n",
       "    .dataframe tbody tr th:only-of-type {\n",
       "        vertical-align: middle;\n",
       "    }\n",
       "\n",
       "    .dataframe tbody tr th {\n",
       "        vertical-align: top;\n",
       "    }\n",
       "\n",
       "    .dataframe thead th {\n",
       "        text-align: right;\n",
       "    }\n",
       "</style>\n",
       "<table border=\"1\" class=\"dataframe\">\n",
       "  <thead>\n",
       "    <tr style=\"text-align: right;\">\n",
       "      <th>loan_status</th>\n",
       "      <th>Charged Off</th>\n",
       "      <th>Fully Paid</th>\n",
       "    </tr>\n",
       "    <tr>\n",
       "      <th>verification_status</th>\n",
       "      <th></th>\n",
       "      <th></th>\n",
       "    </tr>\n",
       "  </thead>\n",
       "  <tbody>\n",
       "    <tr>\n",
       "      <th>Not Verified</th>\n",
       "      <td>3063</td>\n",
       "      <td>24900</td>\n",
       "    </tr>\n",
       "    <tr>\n",
       "      <th>Source Verified</th>\n",
       "      <td>5690</td>\n",
       "      <td>33592</td>\n",
       "    </tr>\n",
       "    <tr>\n",
       "      <th>Verified</th>\n",
       "      <td>4899</td>\n",
       "      <td>20480</td>\n",
       "    </tr>\n",
       "  </tbody>\n",
       "</table>\n",
       "</div>"
      ],
      "text/plain": [
       "loan_status          Charged Off  Fully Paid\n",
       "verification_status                         \n",
       "Not Verified                3063       24900\n",
       "Source Verified             5690       33592\n",
       "Verified                    4899       20480"
      ]
     },
     "execution_count": 96,
     "metadata": {},
     "output_type": "execute_result"
    }
   ],
   "source": [
    "pd.crosstab(df['verification_status'],df['loan_status'])"
   ]
  },
  {
   "cell_type": "code",
   "execution_count": 97,
   "metadata": {},
   "outputs": [
    {
     "data": {
      "text/plain": [
       "<matplotlib.axes._subplots.AxesSubplot at 0x1fc1a1fb248>"
      ]
     },
     "execution_count": 97,
     "metadata": {},
     "output_type": "execute_result"
    },
    {
     "data": {
      "image/png": "[encoded data removed]",
      "text/plain": [
       "<Figure size 720x720 with 1 Axes>"
      ]
     },
     "metadata": {},
     "output_type": "display_data"
    }
   ],
   "source": [
    "plt.rcParams['figure.figsize'] = (10,10)\n",
    "df.groupby('purpose').size().plot(kind='pie')"
   ]
  },
  {
   "cell_type": "code",
   "execution_count": 98,
   "metadata": {},
   "outputs": [
    {
     "data": {
      "text/plain": [
       "<matplotlib.axes._subplots.AxesSubplot at 0x1fc20277b48>"
      ]
     },
     "execution_count": 98,
     "metadata": {},
     "output_type": "execute_result"
    },
    {
     "data": {
      "image/png": "[encoded data removed]",
      "text/plain": [
       "<Figure size 720x720 with 1 Axes>"
      ]
     },
     "metadata": {
      "needs_background": "light"
     },
     "output_type": "display_data"
    }
   ],
   "source": [
    "pd.crosstab(df['purpose'],df['loan_status']).plot.bar()"
   ]
  },
  {
   "cell_type": "code",
   "execution_count": 99,
   "metadata": {},
   "outputs": [
    {
     "data": {
      "text/html": [
       "<div>\n",
       "<style scoped>\n",
       "    .dataframe tbody tr th:only-of-type {\n",
       "        vertical-align: middle;\n",
       "    }\n",
       "\n",
       "    .dataframe tbody tr th {\n",
       "        vertical-align: top;\n",
       "    }\n",
       "\n",
       "    .dataframe thead th {\n",
       "        text-align: right;\n",
       "    }\n",
       "</style>\n",
       "<table border=\"1\" class=\"dataframe\">\n",
       "  <thead>\n",
       "    <tr style=\"text-align: right;\">\n",
       "      <th></th>\n",
       "      <th>int_rate</th>\n",
       "      <th>home_ownership</th>\n",
       "      <th>loan_status</th>\n",
       "      <th>purpose</th>\n",
       "      <th>revol_util</th>\n",
       "      <th>initial_list_status</th>\n",
       "      <th>debt_settlement_flag</th>\n",
       "    </tr>\n",
       "  </thead>\n",
       "  <tbody>\n",
       "    <tr>\n",
       "      <th>0</th>\n",
       "      <td>13.99%</td>\n",
       "      <td>RENT</td>\n",
       "      <td>Charged Off</td>\n",
       "      <td>other</td>\n",
       "      <td>80.2%</td>\n",
       "      <td>f</td>\n",
       "      <td>N</td>\n",
       "    </tr>\n",
       "    <tr>\n",
       "      <th>1</th>\n",
       "      <td>13.99%</td>\n",
       "      <td>MORTGAGE</td>\n",
       "      <td>Charged Off</td>\n",
       "      <td>debt_consolidation</td>\n",
       "      <td>51.1%</td>\n",
       "      <td>f</td>\n",
       "      <td>N</td>\n",
       "    </tr>\n",
       "    <tr>\n",
       "      <th>2</th>\n",
       "      <td>12.29%</td>\n",
       "      <td>RENT</td>\n",
       "      <td>Charged Off</td>\n",
       "      <td>debt_consolidation</td>\n",
       "      <td>67.2%</td>\n",
       "      <td>f</td>\n",
       "      <td>N</td>\n",
       "    </tr>\n",
       "    <tr>\n",
       "      <th>3</th>\n",
       "      <td>12.29%</td>\n",
       "      <td>RENT</td>\n",
       "      <td>Charged Off</td>\n",
       "      <td>credit_card</td>\n",
       "      <td>48.5%</td>\n",
       "      <td>f</td>\n",
       "      <td>Y</td>\n",
       "    </tr>\n",
       "    <tr>\n",
       "      <th>4</th>\n",
       "      <td>17.86%</td>\n",
       "      <td>RENT</td>\n",
       "      <td>Fully Paid</td>\n",
       "      <td>moving</td>\n",
       "      <td>81.5%</td>\n",
       "      <td>f</td>\n",
       "      <td>N</td>\n",
       "    </tr>\n",
       "  </tbody>\n",
       "</table>\n",
       "</div>"
      ],
      "text/plain": [
       "  int_rate home_ownership  loan_status             purpose revol_util  \\\n",
       "0   13.99%           RENT  Charged Off               other      80.2%   \n",
       "1   13.99%       MORTGAGE  Charged Off  debt_consolidation      51.1%   \n",
       "2   12.29%           RENT  Charged Off  debt_consolidation      67.2%   \n",
       "3   12.29%           RENT  Charged Off         credit_card      48.5%   \n",
       "4   17.86%           RENT   Fully Paid              moving      81.5%   \n",
       "\n",
       "  initial_list_status debt_settlement_flag  \n",
       "0                   f                    N  \n",
       "1                   f                    N  \n",
       "2                   f                    N  \n",
       "3                   f                    Y  \n",
       "4                   f                    N  "
      ]
     },
     "execution_count": 99,
     "metadata": {},
     "output_type": "execute_result"
    }
   ],
   "source": [
    "cd=cd.drop(['term','pymnt_plan','zip_code','application_type','emp_title','title','hardship_flag','emp_length','issue_d',\n",
    "            'earliest_cr_line','last_pymnt_d','last_credit_pull_d','addr_state','sub_grade','grade','verification_status'],axis=1)\n",
    "cd.head()"
   ]
  },
  {
   "cell_type": "code",
   "execution_count": 100,
   "metadata": {},
   "outputs": [],
   "source": [
    "# s.replace('a', '')\n",
    "cd['int_rate']=cd['int_rate'].replace('%','',regex=True).astype('float')"
   ]
  },
  {
   "cell_type": "code",
   "execution_count": 101,
   "metadata": {},
   "outputs": [],
   "source": [
    "cd['revol_util']=cd['revol_util'].replace('%','',regex=True).astype('float')"
   ]
  },
  {
   "cell_type": "code",
   "execution_count": 102,
   "metadata": {},
   "outputs": [
    {
     "data": {
      "text/plain": [
       "0    80.2\n",
       "1    51.1\n",
       "2    67.2\n",
       "3    48.5\n",
       "4    81.5\n",
       "Name: revol_util, dtype: float64"
      ]
     },
     "execution_count": 102,
     "metadata": {},
     "output_type": "execute_result"
    }
   ],
   "source": [
    "cd['revol_util'].head()"
   ]
  },
  {
   "cell_type": "code",
   "execution_count": 103,
   "metadata": {},
   "outputs": [],
   "source": [
    "cd['debt_settlement_flag']=np.where(cd['debt_settlement_flag']=='Y',1,0)"
   ]
  },
  {
   "cell_type": "code",
   "execution_count": 104,
   "metadata": {},
   "outputs": [
    {
     "data": {
      "text/plain": [
       "0    0\n",
       "1    0\n",
       "2    0\n",
       "3    1\n",
       "4    0\n",
       "Name: debt_settlement_flag, dtype: int32"
      ]
     },
     "execution_count": 104,
     "metadata": {},
     "output_type": "execute_result"
    }
   ],
   "source": [
    "cd['debt_settlement_flag'].head()"
   ]
  },
  {
   "cell_type": "code",
   "execution_count": 105,
   "metadata": {},
   "outputs": [
    {
     "data": {
      "text/html": [
       "<div>\n",
       "<style scoped>\n",
       "    .dataframe tbody tr th:only-of-type {\n",
       "        vertical-align: middle;\n",
       "    }\n",
       "\n",
       "    .dataframe tbody tr th {\n",
       "        vertical-align: top;\n",
       "    }\n",
       "\n",
       "    .dataframe thead th {\n",
       "        text-align: right;\n",
       "    }\n",
       "</style>\n",
       "<table border=\"1\" class=\"dataframe\">\n",
       "  <thead>\n",
       "    <tr style=\"text-align: right;\">\n",
       "      <th></th>\n",
       "      <th>int_rate</th>\n",
       "      <th>home_ownership</th>\n",
       "      <th>loan_status</th>\n",
       "      <th>purpose</th>\n",
       "      <th>revol_util</th>\n",
       "      <th>initial_list_status</th>\n",
       "      <th>debt_settlement_flag</th>\n",
       "    </tr>\n",
       "  </thead>\n",
       "  <tbody>\n",
       "    <tr>\n",
       "      <th>0</th>\n",
       "      <td>13.99</td>\n",
       "      <td>RENT</td>\n",
       "      <td>Charged Off</td>\n",
       "      <td>other</td>\n",
       "      <td>80.2</td>\n",
       "      <td>f</td>\n",
       "      <td>0</td>\n",
       "    </tr>\n",
       "    <tr>\n",
       "      <th>1</th>\n",
       "      <td>13.99</td>\n",
       "      <td>MORTGAGE</td>\n",
       "      <td>Charged Off</td>\n",
       "      <td>debt_consolidation</td>\n",
       "      <td>51.1</td>\n",
       "      <td>f</td>\n",
       "      <td>0</td>\n",
       "    </tr>\n",
       "    <tr>\n",
       "      <th>2</th>\n",
       "      <td>12.29</td>\n",
       "      <td>RENT</td>\n",
       "      <td>Charged Off</td>\n",
       "      <td>debt_consolidation</td>\n",
       "      <td>67.2</td>\n",
       "      <td>f</td>\n",
       "      <td>0</td>\n",
       "    </tr>\n",
       "    <tr>\n",
       "      <th>3</th>\n",
       "      <td>12.29</td>\n",
       "      <td>RENT</td>\n",
       "      <td>Charged Off</td>\n",
       "      <td>credit_card</td>\n",
       "      <td>48.5</td>\n",
       "      <td>f</td>\n",
       "      <td>1</td>\n",
       "    </tr>\n",
       "    <tr>\n",
       "      <th>4</th>\n",
       "      <td>17.86</td>\n",
       "      <td>RENT</td>\n",
       "      <td>Fully Paid</td>\n",
       "      <td>moving</td>\n",
       "      <td>81.5</td>\n",
       "      <td>f</td>\n",
       "      <td>0</td>\n",
       "    </tr>\n",
       "  </tbody>\n",
       "</table>\n",
       "</div>"
      ],
      "text/plain": [
       "   int_rate home_ownership  loan_status             purpose  revol_util  \\\n",
       "0     13.99           RENT  Charged Off               other        80.2   \n",
       "1     13.99       MORTGAGE  Charged Off  debt_consolidation        51.1   \n",
       "2     12.29           RENT  Charged Off  debt_consolidation        67.2   \n",
       "3     12.29           RENT  Charged Off         credit_card        48.5   \n",
       "4     17.86           RENT   Fully Paid              moving        81.5   \n",
       "\n",
       "  initial_list_status  debt_settlement_flag  \n",
       "0                   f                     0  \n",
       "1                   f                     0  \n",
       "2                   f                     0  \n",
       "3                   f                     1  \n",
       "4                   f                     0  "
      ]
     },
     "execution_count": 105,
     "metadata": {},
     "output_type": "execute_result"
    }
   ],
   "source": [
    "cd.head()"
   ]
  },
  {
   "cell_type": "code",
   "execution_count": 106,
   "metadata": {},
   "outputs": [
    {
     "data": {
      "text/plain": [
       "(92624, 7)"
      ]
     },
     "execution_count": 106,
     "metadata": {},
     "output_type": "execute_result"
    }
   ],
   "source": [
    "cd.shape"
   ]
  },
  {
   "cell_type": "code",
   "execution_count": 107,
   "metadata": {},
   "outputs": [
    {
     "data": {
      "text/plain": [
       "Index(['loan_amnt', 'funded_amnt', 'funded_amnt_inv', 'installment',\n",
       "       'annual_inc', 'dti', 'delinq_2yrs', 'fico_range_low', 'fico_range_high',\n",
       "       'inq_last_6mths', 'open_acc', 'pub_rec', 'revol_bal', 'total_acc',\n",
       "       'out_prncp', 'out_prncp_inv', 'total_pymnt', 'total_pymnt_inv',\n",
       "       'total_rec_prncp', 'total_rec_int', 'total_rec_late_fee', 'recoveries',\n",
       "       'collection_recovery_fee', 'last_pymnt_amnt', 'last_fico_range_high',\n",
       "       'last_fico_range_low', 'collections_12_mths_ex_med', 'policy_code',\n",
       "       'acc_now_delinq', 'tot_coll_amt', 'tot_cur_bal', 'total_rev_hi_lim',\n",
       "       'acc_open_past_24mths', 'avg_cur_bal', 'bc_open_to_buy', 'bc_util',\n",
       "       'chargeoff_within_12_mths', 'delinq_amnt', 'mo_sin_old_il_acct',\n",
       "       'mo_sin_old_rev_tl_op', 'mo_sin_rcnt_rev_tl_op', 'mo_sin_rcnt_tl',\n",
       "       'mort_acc', 'mths_since_recent_bc', 'mths_since_recent_inq',\n",
       "       'num_accts_ever_120_pd', 'num_actv_bc_tl', 'num_actv_rev_tl',\n",
       "       'num_bc_sats', 'num_bc_tl', 'num_il_tl', 'num_op_rev_tl',\n",
       "       'num_rev_accts', 'num_rev_tl_bal_gt_0', 'num_sats', 'num_tl_120dpd_2m',\n",
       "       'num_tl_30dpd', 'num_tl_90g_dpd_24m', 'num_tl_op_past_12m',\n",
       "       'pct_tl_nvr_dlq', 'percent_bc_gt_75', 'pub_rec_bankruptcies',\n",
       "       'tax_liens', 'tot_hi_cred_lim', 'total_bal_ex_mort', 'total_bc_limit',\n",
       "       'total_il_high_credit_limit'],\n",
       "      dtype='object')"
      ]
     },
     "execution_count": 107,
     "metadata": {},
     "output_type": "execute_result"
    }
   ],
   "source": [
    "nd.columns"
   ]
  },
  {
   "cell_type": "markdown",
   "metadata": {},
   "source": [
    "df = df.filter(['loan_amnt','term','int_rate','installment','grade','sub_grade','emp_length','home_ownership', 'issue_d', 'pymnt_plan'\n",
    "                   'annual_inc','verification_status','purpose','dti','delinq_2yrs','loan_status', 'zip_code',\n",
    "               'avg_cur_bal', 'revol_bal'])"
   ]
  },
  {
   "cell_type": "code",
   "execution_count": 108,
   "metadata": {},
   "outputs": [
    {
     "data": {
      "text/html": [
       "<div>\n",
       "<style scoped>\n",
       "    .dataframe tbody tr th:only-of-type {\n",
       "        vertical-align: middle;\n",
       "    }\n",
       "\n",
       "    .dataframe tbody tr th {\n",
       "        vertical-align: top;\n",
       "    }\n",
       "\n",
       "    .dataframe thead th {\n",
       "        text-align: right;\n",
       "    }\n",
       "</style>\n",
       "<table border=\"1\" class=\"dataframe\">\n",
       "  <thead>\n",
       "    <tr style=\"text-align: right;\">\n",
       "      <th></th>\n",
       "      <th>fico_range_low</th>\n",
       "      <th>fico_range_high</th>\n",
       "      <th>last_fico_range_high</th>\n",
       "      <th>last_fico_range_low</th>\n",
       "    </tr>\n",
       "  </thead>\n",
       "  <tbody>\n",
       "    <tr>\n",
       "      <th>0</th>\n",
       "      <td>660</td>\n",
       "      <td>664</td>\n",
       "      <td>609</td>\n",
       "      <td>605</td>\n",
       "    </tr>\n",
       "    <tr>\n",
       "      <th>1</th>\n",
       "      <td>685</td>\n",
       "      <td>689</td>\n",
       "      <td>514</td>\n",
       "      <td>510</td>\n",
       "    </tr>\n",
       "    <tr>\n",
       "      <th>2</th>\n",
       "      <td>660</td>\n",
       "      <td>664</td>\n",
       "      <td>609</td>\n",
       "      <td>605</td>\n",
       "    </tr>\n",
       "    <tr>\n",
       "      <th>3</th>\n",
       "      <td>665</td>\n",
       "      <td>669</td>\n",
       "      <td>619</td>\n",
       "      <td>615</td>\n",
       "    </tr>\n",
       "    <tr>\n",
       "      <th>4</th>\n",
       "      <td>675</td>\n",
       "      <td>679</td>\n",
       "      <td>734</td>\n",
       "      <td>730</td>\n",
       "    </tr>\n",
       "  </tbody>\n",
       "</table>\n",
       "</div>"
      ],
      "text/plain": [
       "   fico_range_low  fico_range_high  last_fico_range_high  last_fico_range_low\n",
       "0             660              664                   609                  605\n",
       "1             685              689                   514                  510\n",
       "2             660              664                   609                  605\n",
       "3             665              669                   619                  615\n",
       "4             675              679                   734                  730"
      ]
     },
     "execution_count": 108,
     "metadata": {},
     "output_type": "execute_result"
    }
   ],
   "source": [
    "nd[['fico_range_low', 'fico_range_high','last_fico_range_high',\n",
    "       'last_fico_range_low']].head()"
   ]
  },
  {
   "cell_type": "code",
   "execution_count": 109,
   "metadata": {},
   "outputs": [
    {
     "data": {
      "text/plain": [
       "Index(['loan_amnt', 'funded_amnt', 'funded_amnt_inv', 'installment',\n",
       "       'annual_inc', 'dti', 'delinq_2yrs', 'fico_range_low', 'fico_range_high',\n",
       "       'inq_last_6mths', 'open_acc', 'pub_rec', 'revol_bal', 'total_acc',\n",
       "       'out_prncp', 'out_prncp_inv', 'total_pymnt', 'total_pymnt_inv',\n",
       "       'total_rec_prncp', 'total_rec_int', 'total_rec_late_fee', 'recoveries',\n",
       "       'collection_recovery_fee', 'last_pymnt_amnt', 'last_fico_range_high',\n",
       "       'last_fico_range_low', 'collections_12_mths_ex_med', 'policy_code',\n",
       "       'acc_now_delinq', 'tot_coll_amt', 'tot_cur_bal', 'total_rev_hi_lim',\n",
       "       'acc_open_past_24mths', 'avg_cur_bal', 'bc_open_to_buy', 'bc_util',\n",
       "       'chargeoff_within_12_mths', 'delinq_amnt', 'mo_sin_old_il_acct',\n",
       "       'mo_sin_old_rev_tl_op', 'mo_sin_rcnt_rev_tl_op', 'mo_sin_rcnt_tl',\n",
       "       'mort_acc', 'mths_since_recent_bc', 'mths_since_recent_inq',\n",
       "       'num_accts_ever_120_pd', 'num_actv_bc_tl', 'num_actv_rev_tl',\n",
       "       'num_bc_sats', 'num_bc_tl', 'num_il_tl', 'num_op_rev_tl',\n",
       "       'num_rev_accts', 'num_rev_tl_bal_gt_0', 'num_sats', 'num_tl_120dpd_2m',\n",
       "       'num_tl_30dpd', 'num_tl_90g_dpd_24m', 'num_tl_op_past_12m',\n",
       "       'pct_tl_nvr_dlq', 'percent_bc_gt_75', 'pub_rec_bankruptcies',\n",
       "       'tax_liens', 'tot_hi_cred_lim', 'total_bal_ex_mort', 'total_bc_limit',\n",
       "       'total_il_high_credit_limit'],\n",
       "      dtype='object')"
      ]
     },
     "execution_count": 109,
     "metadata": {},
     "output_type": "execute_result"
    }
   ],
   "source": [
    "nd.columns"
   ]
  },
  {
   "cell_type": "code",
   "execution_count": 110,
   "metadata": {},
   "outputs": [],
   "source": [
    "nd=nd[['loan_amnt', 'funded_amnt', 'funded_amnt_inv', 'installment', 'annual_inc', 'dti','inq_last_6mths', 'open_acc', 'pub_rec', 'revol_bal','out_prncp', 'out_prncp_inv', 'total_pymnt', 'total_pymnt_inv', 'total_rec_prncp', 'total_rec_int', 'total_rec_late_fee', 'recoveries', 'collection_recovery_fee', 'last_pymnt_amnt', 'last_fico_range_high', 'last_fico_range_low', 'collections_12_mths_ex_med', 'acc_now_delinq', 'tot_coll_amt', 'total_rev_hi_lim', 'acc_open_past_24mths', 'avg_cur_bal', 'bc_open_to_buy', 'bc_util', 'chargeoff_within_12_mths', 'delinq_amnt','num_sats']]"
   ]
  },
  {
   "cell_type": "code",
   "execution_count": 111,
   "metadata": {},
   "outputs": [
    {
     "data": {
      "text/plain": [
       "(92624, 33)"
      ]
     },
     "execution_count": 111,
     "metadata": {},
     "output_type": "execute_result"
    }
   ],
   "source": [
    "nd.shape"
   ]
  },
  {
   "cell_type": "code",
   "execution_count": 112,
   "metadata": {},
   "outputs": [],
   "source": [
    "df = pd.concat([cd, nd], axis=1)"
   ]
  },
  {
   "cell_type": "code",
   "execution_count": 113,
   "metadata": {},
   "outputs": [
    {
     "data": {
      "text/html": [
       "<div>\n",
       "<style scoped>\n",
       "    .dataframe tbody tr th:only-of-type {\n",
       "        vertical-align: middle;\n",
       "    }\n",
       "\n",
       "    .dataframe tbody tr th {\n",
       "        vertical-align: top;\n",
       "    }\n",
       "\n",
       "    .dataframe thead th {\n",
       "        text-align: right;\n",
       "    }\n",
       "</style>\n",
       "<table border=\"1\" class=\"dataframe\">\n",
       "  <thead>\n",
       "    <tr style=\"text-align: right;\">\n",
       "      <th></th>\n",
       "      <th>int_rate</th>\n",
       "      <th>home_ownership</th>\n",
       "      <th>loan_status</th>\n",
       "      <th>purpose</th>\n",
       "      <th>revol_util</th>\n",
       "      <th>initial_list_status</th>\n",
       "      <th>debt_settlement_flag</th>\n",
       "      <th>loan_amnt</th>\n",
       "      <th>funded_amnt</th>\n",
       "      <th>funded_amnt_inv</th>\n",
       "      <th>...</th>\n",
       "      <th>acc_now_delinq</th>\n",
       "      <th>tot_coll_amt</th>\n",
       "      <th>total_rev_hi_lim</th>\n",
       "      <th>acc_open_past_24mths</th>\n",
       "      <th>avg_cur_bal</th>\n",
       "      <th>bc_open_to_buy</th>\n",
       "      <th>bc_util</th>\n",
       "      <th>chargeoff_within_12_mths</th>\n",
       "      <th>delinq_amnt</th>\n",
       "      <th>num_sats</th>\n",
       "    </tr>\n",
       "  </thead>\n",
       "  <tbody>\n",
       "    <tr>\n",
       "      <th>0</th>\n",
       "      <td>13.99</td>\n",
       "      <td>RENT</td>\n",
       "      <td>Charged Off</td>\n",
       "      <td>other</td>\n",
       "      <td>80.2</td>\n",
       "      <td>f</td>\n",
       "      <td>0</td>\n",
       "      <td>7000</td>\n",
       "      <td>7000</td>\n",
       "      <td>7000</td>\n",
       "      <td>...</td>\n",
       "      <td>0</td>\n",
       "      <td>0</td>\n",
       "      <td>7100</td>\n",
       "      <td>8</td>\n",
       "      <td>7388</td>\n",
       "      <td>305.0</td>\n",
       "      <td>94.9</td>\n",
       "      <td>0</td>\n",
       "      <td>0</td>\n",
       "      <td>8</td>\n",
       "    </tr>\n",
       "    <tr>\n",
       "      <th>1</th>\n",
       "      <td>13.99</td>\n",
       "      <td>MORTGAGE</td>\n",
       "      <td>Charged Off</td>\n",
       "      <td>debt_consolidation</td>\n",
       "      <td>51.1</td>\n",
       "      <td>f</td>\n",
       "      <td>0</td>\n",
       "      <td>6000</td>\n",
       "      <td>6000</td>\n",
       "      <td>6000</td>\n",
       "      <td>...</td>\n",
       "      <td>0</td>\n",
       "      <td>0</td>\n",
       "      <td>23700</td>\n",
       "      <td>5</td>\n",
       "      <td>10311</td>\n",
       "      <td>8216.0</td>\n",
       "      <td>58.3</td>\n",
       "      <td>0</td>\n",
       "      <td>0</td>\n",
       "      <td>10</td>\n",
       "    </tr>\n",
       "    <tr>\n",
       "      <th>2</th>\n",
       "      <td>12.29</td>\n",
       "      <td>RENT</td>\n",
       "      <td>Charged Off</td>\n",
       "      <td>debt_consolidation</td>\n",
       "      <td>67.2</td>\n",
       "      <td>f</td>\n",
       "      <td>0</td>\n",
       "      <td>4000</td>\n",
       "      <td>4000</td>\n",
       "      <td>4000</td>\n",
       "      <td>...</td>\n",
       "      <td>0</td>\n",
       "      <td>0</td>\n",
       "      <td>12400</td>\n",
       "      <td>2</td>\n",
       "      <td>3282</td>\n",
       "      <td>861.0</td>\n",
       "      <td>90.6</td>\n",
       "      <td>0</td>\n",
       "      <td>0</td>\n",
       "      <td>14</td>\n",
       "    </tr>\n",
       "    <tr>\n",
       "      <th>3</th>\n",
       "      <td>12.29</td>\n",
       "      <td>RENT</td>\n",
       "      <td>Charged Off</td>\n",
       "      <td>credit_card</td>\n",
       "      <td>48.5</td>\n",
       "      <td>f</td>\n",
       "      <td>1</td>\n",
       "      <td>12000</td>\n",
       "      <td>12000</td>\n",
       "      <td>12000</td>\n",
       "      <td>...</td>\n",
       "      <td>0</td>\n",
       "      <td>0</td>\n",
       "      <td>16700</td>\n",
       "      <td>7</td>\n",
       "      <td>1274</td>\n",
       "      <td>2572.0</td>\n",
       "      <td>72.0</td>\n",
       "      <td>0</td>\n",
       "      <td>0</td>\n",
       "      <td>12</td>\n",
       "    </tr>\n",
       "    <tr>\n",
       "      <th>4</th>\n",
       "      <td>17.86</td>\n",
       "      <td>RENT</td>\n",
       "      <td>Fully Paid</td>\n",
       "      <td>moving</td>\n",
       "      <td>81.5</td>\n",
       "      <td>f</td>\n",
       "      <td>0</td>\n",
       "      <td>2500</td>\n",
       "      <td>2500</td>\n",
       "      <td>2500</td>\n",
       "      <td>...</td>\n",
       "      <td>0</td>\n",
       "      <td>0</td>\n",
       "      <td>16100</td>\n",
       "      <td>2</td>\n",
       "      <td>4485</td>\n",
       "      <td>1396.0</td>\n",
       "      <td>88.0</td>\n",
       "      <td>0</td>\n",
       "      <td>0</td>\n",
       "      <td>11</td>\n",
       "    </tr>\n",
       "  </tbody>\n",
       "</table>\n",
       "<p>5 rows × 40 columns</p>\n",
       "</div>"
      ],
      "text/plain": [
       "   int_rate home_ownership  loan_status             purpose  revol_util  \\\n",
       "0     13.99           RENT  Charged Off               other        80.2   \n",
       "1     13.99       MORTGAGE  Charged Off  debt_consolidation        51.1   \n",
       "2     12.29           RENT  Charged Off  debt_consolidation        67.2   \n",
       "3     12.29           RENT  Charged Off         credit_card        48.5   \n",
       "4     17.86           RENT   Fully Paid              moving        81.5   \n",
       "\n",
       "  initial_list_status  debt_settlement_flag  loan_amnt  funded_amnt  \\\n",
       "0                   f                     0       7000         7000   \n",
       "1                   f                     0       6000         6000   \n",
       "2                   f                     0       4000         4000   \n",
       "3                   f                     1      12000        12000   \n",
       "4                   f                     0       2500         2500   \n",
       "\n",
       "   funded_amnt_inv  ...  acc_now_delinq  tot_coll_amt  total_rev_hi_lim  \\\n",
       "0             7000  ...               0             0              7100   \n",
       "1             6000  ...               0             0             23700   \n",
       "2             4000  ...               0             0             12400   \n",
       "3            12000  ...               0             0             16700   \n",
       "4             2500  ...               0             0             16100   \n",
       "\n",
       "   acc_open_past_24mths  avg_cur_bal  bc_open_to_buy  bc_util  \\\n",
       "0                     8         7388           305.0     94.9   \n",
       "1                     5        10311          8216.0     58.3   \n",
       "2                     2         3282           861.0     90.6   \n",
       "3                     7         1274          2572.0     72.0   \n",
       "4                     2         4485          1396.0     88.0   \n",
       "\n",
       "   chargeoff_within_12_mths  delinq_amnt  num_sats  \n",
       "0                         0            0         8  \n",
       "1                         0            0        10  \n",
       "2                         0            0        14  \n",
       "3                         0            0        12  \n",
       "4                         0            0        11  \n",
       "\n",
       "[5 rows x 40 columns]"
      ]
     },
     "execution_count": 113,
     "metadata": {},
     "output_type": "execute_result"
    }
   ],
   "source": [
    "df.head()"
   ]
  },
  {
   "cell_type": "code",
   "execution_count": 114,
   "metadata": {},
   "outputs": [],
   "source": [
    "df['loan_status']=np.where(df['loan_status']=='Fully Paid',1,0) #fully paid =1, charged off=0"
   ]
  },
  {
   "cell_type": "code",
   "execution_count": 115,
   "metadata": {},
   "outputs": [],
   "source": [
    "# X=df.drop(\"loan_status\",axis=1)"
   ]
  },
  {
   "cell_type": "code",
   "execution_count": 116,
   "metadata": {},
   "outputs": [],
   "source": [
    "# X.head()"
   ]
  },
  {
   "cell_type": "code",
   "execution_count": 117,
   "metadata": {},
   "outputs": [],
   "source": [
    "df=pd.get_dummies(df)"
   ]
  },
  {
   "cell_type": "code",
   "execution_count": 118,
   "metadata": {},
   "outputs": [
    {
     "data": {
      "text/html": [
       "<div>\n",
       "<style scoped>\n",
       "    .dataframe tbody tr th:only-of-type {\n",
       "        vertical-align: middle;\n",
       "    }\n",
       "\n",
       "    .dataframe tbody tr th {\n",
       "        vertical-align: top;\n",
       "    }\n",
       "\n",
       "    .dataframe thead th {\n",
       "        text-align: right;\n",
       "    }\n",
       "</style>\n",
       "<table border=\"1\" class=\"dataframe\">\n",
       "  <thead>\n",
       "    <tr style=\"text-align: right;\">\n",
       "      <th></th>\n",
       "      <th>int_rate</th>\n",
       "      <th>loan_status</th>\n",
       "      <th>revol_util</th>\n",
       "      <th>debt_settlement_flag</th>\n",
       "      <th>loan_amnt</th>\n",
       "      <th>funded_amnt</th>\n",
       "      <th>funded_amnt_inv</th>\n",
       "      <th>installment</th>\n",
       "      <th>annual_inc</th>\n",
       "      <th>dti</th>\n",
       "      <th>...</th>\n",
       "      <th>purpose_major_purchase</th>\n",
       "      <th>purpose_medical</th>\n",
       "      <th>purpose_moving</th>\n",
       "      <th>purpose_other</th>\n",
       "      <th>purpose_renewable_energy</th>\n",
       "      <th>purpose_small_business</th>\n",
       "      <th>purpose_vacation</th>\n",
       "      <th>purpose_wedding</th>\n",
       "      <th>initial_list_status_f</th>\n",
       "      <th>initial_list_status_w</th>\n",
       "    </tr>\n",
       "  </thead>\n",
       "  <tbody>\n",
       "    <tr>\n",
       "      <th>0</th>\n",
       "      <td>13.99</td>\n",
       "      <td>0</td>\n",
       "      <td>80.2</td>\n",
       "      <td>0</td>\n",
       "      <td>7000</td>\n",
       "      <td>7000</td>\n",
       "      <td>7000</td>\n",
       "      <td>239.21</td>\n",
       "      <td>78000.0</td>\n",
       "      <td>21.62</td>\n",
       "      <td>...</td>\n",
       "      <td>0</td>\n",
       "      <td>0</td>\n",
       "      <td>0</td>\n",
       "      <td>1</td>\n",
       "      <td>0</td>\n",
       "      <td>0</td>\n",
       "      <td>0</td>\n",
       "      <td>0</td>\n",
       "      <td>1</td>\n",
       "      <td>0</td>\n",
       "    </tr>\n",
       "    <tr>\n",
       "      <th>1</th>\n",
       "      <td>13.99</td>\n",
       "      <td>0</td>\n",
       "      <td>51.1</td>\n",
       "      <td>0</td>\n",
       "      <td>6000</td>\n",
       "      <td>6000</td>\n",
       "      <td>6000</td>\n",
       "      <td>205.04</td>\n",
       "      <td>30000.0</td>\n",
       "      <td>25.28</td>\n",
       "      <td>...</td>\n",
       "      <td>0</td>\n",
       "      <td>0</td>\n",
       "      <td>0</td>\n",
       "      <td>0</td>\n",
       "      <td>0</td>\n",
       "      <td>0</td>\n",
       "      <td>0</td>\n",
       "      <td>0</td>\n",
       "      <td>1</td>\n",
       "      <td>0</td>\n",
       "    </tr>\n",
       "    <tr>\n",
       "      <th>2</th>\n",
       "      <td>12.29</td>\n",
       "      <td>0</td>\n",
       "      <td>67.2</td>\n",
       "      <td>0</td>\n",
       "      <td>4000</td>\n",
       "      <td>4000</td>\n",
       "      <td>4000</td>\n",
       "      <td>133.42</td>\n",
       "      <td>16400.0</td>\n",
       "      <td>38.73</td>\n",
       "      <td>...</td>\n",
       "      <td>0</td>\n",
       "      <td>0</td>\n",
       "      <td>0</td>\n",
       "      <td>0</td>\n",
       "      <td>0</td>\n",
       "      <td>0</td>\n",
       "      <td>0</td>\n",
       "      <td>0</td>\n",
       "      <td>1</td>\n",
       "      <td>0</td>\n",
       "    </tr>\n",
       "    <tr>\n",
       "      <th>3</th>\n",
       "      <td>12.29</td>\n",
       "      <td>0</td>\n",
       "      <td>48.5</td>\n",
       "      <td>1</td>\n",
       "      <td>12000</td>\n",
       "      <td>12000</td>\n",
       "      <td>12000</td>\n",
       "      <td>400.24</td>\n",
       "      <td>80000.0</td>\n",
       "      <td>9.69</td>\n",
       "      <td>...</td>\n",
       "      <td>0</td>\n",
       "      <td>0</td>\n",
       "      <td>0</td>\n",
       "      <td>0</td>\n",
       "      <td>0</td>\n",
       "      <td>0</td>\n",
       "      <td>0</td>\n",
       "      <td>0</td>\n",
       "      <td>1</td>\n",
       "      <td>0</td>\n",
       "    </tr>\n",
       "    <tr>\n",
       "      <th>4</th>\n",
       "      <td>17.86</td>\n",
       "      <td>1</td>\n",
       "      <td>81.5</td>\n",
       "      <td>0</td>\n",
       "      <td>2500</td>\n",
       "      <td>2500</td>\n",
       "      <td>2500</td>\n",
       "      <td>90.21</td>\n",
       "      <td>50000.0</td>\n",
       "      <td>20.38</td>\n",
       "      <td>...</td>\n",
       "      <td>0</td>\n",
       "      <td>0</td>\n",
       "      <td>1</td>\n",
       "      <td>0</td>\n",
       "      <td>0</td>\n",
       "      <td>0</td>\n",
       "      <td>0</td>\n",
       "      <td>0</td>\n",
       "      <td>1</td>\n",
       "      <td>0</td>\n",
       "    </tr>\n",
       "  </tbody>\n",
       "</table>\n",
       "<p>5 rows × 55 columns</p>\n",
       "</div>"
      ],
      "text/plain": [
       "   int_rate  loan_status  revol_util  debt_settlement_flag  loan_amnt  \\\n",
       "0     13.99            0        80.2                     0       7000   \n",
       "1     13.99            0        51.1                     0       6000   \n",
       "2     12.29            0        67.2                     0       4000   \n",
       "3     12.29            0        48.5                     1      12000   \n",
       "4     17.86            1        81.5                     0       2500   \n",
       "\n",
       "   funded_amnt  funded_amnt_inv  installment  annual_inc    dti  ...  \\\n",
       "0         7000             7000       239.21     78000.0  21.62  ...   \n",
       "1         6000             6000       205.04     30000.0  25.28  ...   \n",
       "2         4000             4000       133.42     16400.0  38.73  ...   \n",
       "3        12000            12000       400.24     80000.0   9.69  ...   \n",
       "4         2500             2500        90.21     50000.0  20.38  ...   \n",
       "\n",
       "   purpose_major_purchase  purpose_medical  purpose_moving  purpose_other  \\\n",
       "0                       0                0               0              1   \n",
       "1                       0                0               0              0   \n",
       "2                       0                0               0              0   \n",
       "3                       0                0               0              0   \n",
       "4                       0                0               1              0   \n",
       "\n",
       "   purpose_renewable_energy  purpose_small_business  purpose_vacation  \\\n",
       "0                         0                       0                 0   \n",
       "1                         0                       0                 0   \n",
       "2                         0                       0                 0   \n",
       "3                         0                       0                 0   \n",
       "4                         0                       0                 0   \n",
       "\n",
       "   purpose_wedding  initial_list_status_f  initial_list_status_w  \n",
       "0                0                      1                      0  \n",
       "1                0                      1                      0  \n",
       "2                0                      1                      0  \n",
       "3                0                      1                      0  \n",
       "4                0                      1                      0  \n",
       "\n",
       "[5 rows x 55 columns]"
      ]
     },
     "execution_count": 118,
     "metadata": {},
     "output_type": "execute_result"
    }
   ],
   "source": [
    "df.head()"
   ]
  },
  {
   "cell_type": "code",
   "execution_count": 119,
   "metadata": {},
   "outputs": [],
   "source": [
    "# y=df['loan_status']"
   ]
  },
  {
   "cell_type": "code",
   "execution_count": 120,
   "metadata": {},
   "outputs": [],
   "source": [
    "train=df.sample(frac=0.80,random_state=1)\n",
    "test=df.drop(train.index)"
   ]
  },
  {
   "cell_type": "code",
   "execution_count": 121,
   "metadata": {},
   "outputs": [
    {
     "name": "stderr",
     "output_type": "stream",
     "text": [
      "D:\\ANACONDA\\lib\\site-packages\\statsmodels\\tools\\_testing.py:19: FutureWarning: pandas.util.testing is deprecated. Use the functions in the public API at pandas.testing instead.\n",
      "  import pandas.util.testing as tm\n"
     ]
    }
   ],
   "source": [
    "import statsmodels.formula.api as smf\n",
    "import statsmodels.api as sm"
   ]
  },
  {
   "cell_type": "code",
   "execution_count": 122,
   "metadata": {},
   "outputs": [
    {
     "name": "stderr",
     "output_type": "stream",
     "text": [
      "D:\\ANACONDA\\lib\\site-packages\\statsmodels\\genmod\\families\\family.py:890: RuntimeWarning: invalid value encountered in true_divide\n",
      "  n_endog_mu = self._clean((1. - endog) / (1. - mu))\n",
      "D:\\ANACONDA\\lib\\site-packages\\statsmodels\\genmod\\families\\links.py:190: RuntimeWarning: overflow encountered in exp\n",
      "  t = np.exp(-z)\n",
      "D:\\ANACONDA\\lib\\site-packages\\statsmodels\\genmod\\families\\family.py:889: RuntimeWarning: invalid value encountered in true_divide\n",
      "  endog_mu = self._clean(endog / mu)\n",
      "D:\\ANACONDA\\lib\\site-packages\\statsmodels\\genmod\\families\\family.py:890: RuntimeWarning: divide by zero encountered in true_divide\n",
      "  n_endog_mu = self._clean((1. - endog) / (1. - mu))\n",
      "D:\\ANACONDA\\lib\\site-packages\\statsmodels\\genmod\\families\\family.py:889: RuntimeWarning: divide by zero encountered in true_divide\n",
      "  endog_mu = self._clean(endog / mu)\n",
      "D:\\ANACONDA\\lib\\site-packages\\statsmodels\\genmod\\families\\family.py:942: RuntimeWarning: divide by zero encountered in true_divide\n",
      "  special.gammaln(n - y + 1) + y * np.log(mu / (1 - mu)) +\n",
      "D:\\ANACONDA\\lib\\site-packages\\statsmodels\\genmod\\families\\family.py:942: RuntimeWarning: divide by zero encountered in log\n",
      "  special.gammaln(n - y + 1) + y * np.log(mu / (1 - mu)) +\n",
      "D:\\ANACONDA\\lib\\site-packages\\statsmodels\\genmod\\families\\family.py:942: RuntimeWarning: invalid value encountered in multiply\n",
      "  special.gammaln(n - y + 1) + y * np.log(mu / (1 - mu)) +\n",
      "D:\\ANACONDA\\lib\\site-packages\\statsmodels\\genmod\\families\\family.py:943: RuntimeWarning: divide by zero encountered in log\n",
      "  n * np.log(1 - mu)) * var_weights\n",
      "D:\\ANACONDA\\lib\\site-packages\\statsmodels\\genmod\\families\\family.py:943: RuntimeWarning: invalid value encountered in add\n",
      "  n * np.log(1 - mu)) * var_weights\n"
     ]
    },
    {
     "name": "stdout",
     "output_type": "stream",
     "text": [
      "                 Generalized Linear Model Regression Results                  \n",
      "==============================================================================\n",
      "Dep. Variable:            loan_status   No. Observations:                74099\n",
      "Model:                            GLM   Df Residuals:                    74050\n",
      "Model Family:                Binomial   Df Model:                           48\n",
      "Link Function:                  logit   Scale:                          1.0000\n",
      "Method:                          IRLS   Log-Likelihood:                    nan\n",
      "Date:                Mon, 01 Jun 2020   Deviance:                          nan\n",
      "Time:                        10:51:27   Pearson chi2:                 9.46e+17\n",
      "No. Iterations:                   100                                         \n",
      "Covariance Type:            nonrobust                                         \n",
      "==============================================================================================\n",
      "                                 coef    std err          z      P>|z|      [0.025      0.975]\n",
      "----------------------------------------------------------------------------------------------\n",
      "Intercept                  -9.021e+14   3.33e+06  -2.71e+08      0.000   -9.02e+14   -9.02e+14\n",
      "int_rate                    1.672e+13   1.38e+05   1.21e+08      0.000    1.67e+13    1.67e+13\n",
      "revol_util                 -5.575e+11   2.12e+04  -2.63e+07      0.000   -5.57e+11   -5.57e+11\n",
      "debt_settlement_flag       -8.242e+14   1.92e+06  -4.29e+08      0.000   -8.24e+14   -8.24e+14\n",
      "loan_amnt                   2.067e+12   2.23e+04   9.27e+07      0.000    2.07e+12    2.07e+12\n",
      "funded_amnt                 2.067e+12   2.23e+04   9.27e+07      0.000    2.07e+12    2.07e+12\n",
      "funded_amnt_inv            -4.759e+12   4.46e+04  -1.07e+08      0.000   -4.76e+12   -4.76e+12\n",
      "installment                 3.774e+12   2.22e+04    1.7e+08      0.000    3.77e+12    3.77e+12\n",
      "annual_inc                 -2.794e+07      4.369   -6.4e+06      0.000   -2.79e+07   -2.79e+07\n",
      "dti                        -5.594e+11   3.27e+04  -1.71e+07      0.000   -5.59e+11   -5.59e+11\n",
      "inq_last_6mths             -7.029e+12   3.15e+05  -2.23e+07      0.000   -7.03e+12   -7.03e+12\n",
      "open_acc                   -2.889e+13   7.82e+05   -3.7e+07      0.000   -2.89e+13   -2.89e+13\n",
      "pub_rec                    -1.552e+13   4.01e+05  -3.87e+07      0.000   -1.55e+13   -1.55e+13\n",
      "revol_bal                   9.589e+08     39.067   2.45e+07      0.000    9.59e+08    9.59e+08\n",
      "out_prncp                    453.8828   3.91e-05   1.16e+07      0.000     453.883     453.883\n",
      "out_prncp_inv                162.0272   1.14e-05   1.43e+07      0.000     162.027     162.027\n",
      "total_pymnt                 1.683e+15   1.04e+08   1.61e+07      0.000    1.68e+15    1.68e+15\n",
      "total_pymnt_inv             3.602e+12   4.06e+04   8.87e+07      0.000     3.6e+12     3.6e+12\n",
      "total_rec_prncp            -1.686e+15   1.04e+08  -1.61e+07      0.000   -1.69e+15   -1.69e+15\n",
      "total_rec_int              -1.687e+15   1.04e+08  -1.62e+07      0.000   -1.69e+15   -1.69e+15\n",
      "total_rec_late_fee         -1.688e+15   1.04e+08  -1.62e+07      0.000   -1.69e+15   -1.69e+15\n",
      "recoveries                 -1.686e+15   1.04e+08  -1.61e+07      0.000   -1.69e+15   -1.69e+15\n",
      "collection_recovery_fee     -6.84e+09    1.9e+04  -3.59e+05      0.000   -6.84e+09   -6.84e+09\n",
      "last_pymnt_amnt             6.611e+10     86.381   7.65e+08      0.000    6.61e+10    6.61e+10\n",
      "last_fico_range_high        3.557e+12   6024.094    5.9e+08      0.000    3.56e+12    3.56e+12\n",
      "last_fico_range_low        -1.476e+11   3479.493  -4.24e+07      0.000   -1.48e+11   -1.48e+11\n",
      "collections_12_mths_ex_med  2.311e+13   1.47e+06   1.57e+07      0.000    2.31e+13    2.31e+13\n",
      "acc_now_delinq              -1.32e+13   3.18e+06  -4.16e+06      0.000   -1.32e+13   -1.32e+13\n",
      "tot_coll_amt               -1.224e+09    134.110  -9.13e+06      0.000   -1.22e+09   -1.22e+09\n",
      "total_rev_hi_lim           -7.692e+08     33.311  -2.31e+07      0.000   -7.69e+08   -7.69e+08\n",
      "acc_open_past_24mths       -1.455e+12      1e+05  -1.45e+07      0.000   -1.45e+12   -1.45e+12\n",
      "avg_cur_bal                 9.553e+08     19.878   4.81e+07      0.000    9.55e+08    9.55e+08\n",
      "bc_open_to_buy              3.797e+09     39.791   9.54e+07      0.000     3.8e+09     3.8e+09\n",
      "bc_util                     3.489e+11   1.77e+04   1.97e+07      0.000    3.49e+11    3.49e+11\n",
      "chargeoff_within_12_mths    1.045e+14   1.98e+06   5.29e+07      0.000    1.04e+14    1.04e+14\n",
      "delinq_amnt                 2.432e+10    300.933   8.08e+07      0.000    2.43e+10    2.43e+10\n",
      "num_sats                    2.731e+13   7.83e+05   3.49e+07      0.000    2.73e+13    2.73e+13\n",
      "home_ownership_MORTGAGE     -3.11e+14   1.19e+06  -2.62e+08      0.000   -3.11e+14   -3.11e+14\n",
      "home_ownership_OWN         -2.868e+14   1.24e+06  -2.31e+08      0.000   -2.87e+14   -2.87e+14\n",
      "home_ownership_RENT        -3.043e+14   1.16e+06  -2.62e+08      0.000   -3.04e+14   -3.04e+14\n",
      "purpose_car                -3.029e+14   5.51e+06   -5.5e+07      0.000   -3.03e+14   -3.03e+14\n",
      "purpose_credit_card        -3.596e+14   5.06e+06   -7.1e+07      0.000    -3.6e+14    -3.6e+14\n",
      "purpose_debt_consolidation  -3.45e+14   5.05e+06  -6.83e+07      0.000   -3.45e+14   -3.45e+14\n",
      "purpose_home_improvement   -3.823e+14   5.12e+06  -7.47e+07      0.000   -3.82e+14   -3.82e+14\n",
      "purpose_house              -4.974e+14   6.24e+06  -7.97e+07      0.000   -4.97e+14   -4.97e+14\n",
      "purpose_major_purchase     -2.725e+14    5.3e+06  -5.14e+07      0.000   -2.72e+14   -2.72e+14\n",
      "purpose_medical             -3.54e+14   5.51e+06  -6.43e+07      0.000   -3.54e+14   -3.54e+14\n",
      "purpose_moving             -3.344e+14   5.65e+06  -5.92e+07      0.000   -3.34e+14   -3.34e+14\n",
      "purpose_other              -3.357e+14   5.14e+06  -6.54e+07      0.000   -3.36e+14   -3.36e+14\n",
      "purpose_renewable_energy   -3.299e+14      1e+07  -3.29e+07      0.000    -3.3e+14    -3.3e+14\n",
      "purpose_small_business     -1.971e+14   5.64e+06   -3.5e+07      0.000   -1.97e+14   -1.97e+14\n",
      "purpose_vacation           -4.146e+14   5.61e+06  -7.39e+07      0.000   -4.15e+14   -4.15e+14\n",
      "purpose_wedding             3.223e+15   6.22e+07   5.18e+07      0.000    3.22e+15    3.22e+15\n",
      "initial_list_status_f      -4.557e+14    1.7e+06  -2.69e+08      0.000   -4.56e+14   -4.56e+14\n",
      "initial_list_status_w      -4.464e+14   1.68e+06  -2.66e+08      0.000   -4.46e+14   -4.46e+14\n",
      "==============================================================================================\n"
     ]
    }
   ],
   "source": [
    "glm1=smf.glm('loan_status~int_rate+revol_util+debt_settlement_flag+loan_amnt+funded_amnt+funded_amnt_inv+installment+annual_inc+dti+inq_last_6mths+open_acc+pub_rec+revol_bal+out_prncp+out_prncp_inv+total_pymnt+total_pymnt_inv+total_rec_prncp+total_rec_int+total_rec_late_fee+recoveries+collection_recovery_fee+last_pymnt_amnt+last_fico_range_high+last_fico_range_low+collections_12_mths_ex_med+acc_now_delinq+tot_coll_amt+total_rev_hi_lim+acc_open_past_24mths+avg_cur_bal+bc_open_to_buy+bc_util+chargeoff_within_12_mths+delinq_amnt+num_sats++home_ownership_MORTGAGE+home_ownership_OWN+home_ownership_RENT+purpose_car+purpose_credit_card+purpose_debt_consolidation+purpose_home_improvement+purpose_house+purpose_major_purchase+purpose_medical+purpose_moving+purpose_other+purpose_renewable_energy+purpose_small_business+purpose_vacation+purpose_wedding+initial_list_status_f+initial_list_status_w',data=train,family=sm.families.Binomial()).fit()\n",
    "print(glm1.summary())"
   ]
  },
  {
   "cell_type": "code",
   "execution_count": 123,
   "metadata": {},
   "outputs": [
    {
     "data": {
      "text/plain": [
       "dtype('int32')"
      ]
     },
     "execution_count": 123,
     "metadata": {},
     "output_type": "execute_result"
    }
   ],
   "source": [
    "train['loan_status'].dtypes"
   ]
  },
  {
   "cell_type": "code",
   "execution_count": 124,
   "metadata": {},
   "outputs": [
    {
     "data": {
      "text/plain": [
       "nan"
      ]
     },
     "execution_count": 124,
     "metadata": {},
     "output_type": "execute_result"
    }
   ],
   "source": [
    "glm1.aic"
   ]
  },
  {
   "cell_type": "code",
   "execution_count": 125,
   "metadata": {},
   "outputs": [
    {
     "data": {
      "text/plain": [
       "7     0.0\n",
       "9     1.0\n",
       "15    1.0\n",
       "18    1.0\n",
       "27    1.0\n",
       "Name: prob, dtype: float64"
      ]
     },
     "execution_count": 125,
     "metadata": {},
     "output_type": "execute_result"
    }
   ],
   "source": [
    "test['prob']=glm1.predict(test)\n",
    "test['prob'].head()"
   ]
  },
  {
   "cell_type": "code",
   "execution_count": 126,
   "metadata": {},
   "outputs": [
    {
     "data": {
      "text/plain": [
       "0.9915617803599112"
      ]
     },
     "execution_count": 126,
     "metadata": {},
     "output_type": "execute_result"
    }
   ],
   "source": [
    "# AUC\n",
    "from sklearn import metrics\n",
    "metrics.roc_auc_score(test['loan_status'],test['prob'])"
   ]
  },
  {
   "cell_type": "code",
   "execution_count": 127,
   "metadata": {},
   "outputs": [],
   "source": [
    "X=df.drop('loan_status',axis=1)\n",
    "y=df['loan_status']\n",
    "import sklearn.model_selection as model_selection\n",
    "X_train,X_test,y_train,y_test=model_selection.train_test_split(X,y,test_size=0.2,random_state=200)"
   ]
  },
  {
   "cell_type": "code",
   "execution_count": 128,
   "metadata": {},
   "outputs": [
    {
     "data": {
      "text/plain": [
       "RandomForestClassifier(bootstrap=True, ccp_alpha=0.0, class_weight=None,\n",
       "                       criterion='gini', max_depth=None, max_features='auto',\n",
       "                       max_leaf_nodes=None, max_samples=None,\n",
       "                       min_impurity_decrease=0.0, min_impurity_split=None,\n",
       "                       min_samples_leaf=1, min_samples_split=2,\n",
       "                       min_weight_fraction_leaf=0.0, n_estimators=80, n_jobs=-1,\n",
       "                       oob_score=True, random_state=400, verbose=0,\n",
       "                       warm_start=False)"
      ]
     },
     "execution_count": 128,
     "metadata": {},
     "output_type": "execute_result"
    }
   ],
   "source": [
    "from sklearn.ensemble import RandomForestClassifier\n",
    "clf=RandomForestClassifier(n_estimators=80,oob_score=True,n_jobs=-1,random_state=400)\n",
    "clf.fit(X_train,y_train)"
   ]
  },
  {
   "cell_type": "code",
   "execution_count": 129,
   "metadata": {},
   "outputs": [
    {
     "data": {
      "text/plain": [
       "0.9950471666284295"
      ]
     },
     "execution_count": 129,
     "metadata": {},
     "output_type": "execute_result"
    }
   ],
   "source": [
    "clf.oob_score_"
   ]
  },
  {
   "cell_type": "code",
   "execution_count": 130,
   "metadata": {},
   "outputs": [],
   "source": [
    "# for w in range(10,300,20):\n",
    "#     clf=RandomForestClassifier(n_estimators=w,oob_score=True,n_jobs=-1,random_state=400)\n",
    "#     clf.fit(X_train,y_train)\n",
    "#     oob=clf.oob_score_\n",
    "#     print('For n_estimators = '+str(w))\n",
    "#     print('OOB score is '+str(oob))\n",
    "#     print('************************')"
   ]
  },
  {
   "cell_type": "code",
   "execution_count": 131,
   "metadata": {},
   "outputs": [
    {
     "data": {
      "text/plain": [
       "RandomForestClassifier(bootstrap=True, ccp_alpha=0.0, class_weight=None,\n",
       "                       criterion='gini', max_depth=3, max_features=4,\n",
       "                       max_leaf_nodes=None, max_samples=None,\n",
       "                       min_impurity_decrease=0.0, min_impurity_split=None,\n",
       "                       min_samples_leaf=1, min_samples_split=2,\n",
       "                       min_weight_fraction_leaf=0.0, n_estimators=70, n_jobs=-1,\n",
       "                       oob_score=True, random_state=400, verbose=0,\n",
       "                       warm_start=False)"
      ]
     },
     "execution_count": 131,
     "metadata": {},
     "output_type": "execute_result"
    }
   ],
   "source": [
    "#Finalize 70 trees\n",
    "clf=RandomForestClassifier(n_estimators=70,oob_score=True,n_jobs=-1,random_state=400,max_depth=3,max_features=4)\n",
    "clf.fit(X_train,y_train)"
   ]
  },
  {
   "cell_type": "code",
   "execution_count": 132,
   "metadata": {},
   "outputs": [
    {
     "data": {
      "text/plain": [
       "0.9519028340080972"
      ]
     },
     "execution_count": 132,
     "metadata": {},
     "output_type": "execute_result"
    }
   ],
   "source": [
    "clf.score(X_test,y_test)"
   ]
  },
  {
   "cell_type": "code",
   "execution_count": 133,
   "metadata": {},
   "outputs": [
    {
     "data": {
      "text/plain": [
       "recoveries                    0.256622\n",
       "last_fico_range_low           0.179208\n",
       "last_fico_range_high          0.126182\n",
       "collection_recovery_fee       0.117708\n",
       "total_rec_prncp               0.062161\n",
       "last_pymnt_amnt               0.043067\n",
       "total_pymnt_inv               0.040468\n",
       "debt_settlement_flag          0.033984\n",
       "funded_amnt                   0.033039\n",
       "total_pymnt                   0.027604\n",
       "total_rec_late_fee            0.019972\n",
       "int_rate                      0.009891\n",
       "total_rev_hi_lim              0.008750\n",
       "funded_amnt_inv               0.008501\n",
       "installment                   0.007132\n",
       "loan_amnt                     0.006231\n",
       "dti                           0.002950\n",
       "avg_cur_bal                   0.002712\n",
       "total_rec_int                 0.002572\n",
       "home_ownership_MORTGAGE       0.002378\n",
       "inq_last_6mths                0.001720\n",
       "acc_open_past_24mths          0.001691\n",
       "bc_open_to_buy                0.001353\n",
       "home_ownership_RENT           0.000794\n",
       "initial_list_status_f         0.000530\n",
       "num_sats                      0.000517\n",
       "bc_util                       0.000412\n",
       "initial_list_status_w         0.000412\n",
       "revol_bal                     0.000332\n",
       "annual_inc                    0.000309\n",
       "pub_rec                       0.000181\n",
       "purpose_credit_card           0.000177\n",
       "revol_util                    0.000129\n",
       "purpose_debt_consolidation    0.000073\n",
       "tot_coll_amt                  0.000054\n",
       "open_acc                      0.000041\n",
       "collections_12_mths_ex_med    0.000036\n",
       "purpose_small_business        0.000027\n",
       "purpose_medical               0.000023\n",
       "purpose_other                 0.000020\n",
       "purpose_car                   0.000010\n",
       "acc_now_delinq                0.000007\n",
       "delinq_amnt                   0.000006\n",
       "home_ownership_OWN            0.000005\n",
       "purpose_house                 0.000004\n",
       "chargeoff_within_12_mths      0.000003\n",
       "purpose_moving                0.000003\n",
       "purpose_major_purchase        0.000000\n",
       "purpose_home_improvement      0.000000\n",
       "out_prncp                     0.000000\n",
       "purpose_renewable_energy      0.000000\n",
       "out_prncp_inv                 0.000000\n",
       "purpose_vacation              0.000000\n",
       "purpose_wedding               0.000000\n",
       "dtype: float64"
      ]
     },
     "execution_count": 133,
     "metadata": {},
     "output_type": "execute_result"
    }
   ],
   "source": [
    "pd.Series(clf.feature_importances_,index=X_train.columns).sort_values(ascending=False)"
   ]
  },
  {
   "cell_type": "code",
   "execution_count": 134,
   "metadata": {},
   "outputs": [],
   "source": [
    "#DECISION TREE"
   ]
  },
  {
   "cell_type": "code",
   "execution_count": 135,
   "metadata": {},
   "outputs": [
    {
     "data": {
      "text/plain": [
       "DecisionTreeClassifier(ccp_alpha=0.0, class_weight=None, criterion='gini',\n",
       "                       max_depth=3, max_features=None, max_leaf_nodes=None,\n",
       "                       min_impurity_decrease=0.0, min_impurity_split=None,\n",
       "                       min_samples_leaf=1, min_samples_split=2,\n",
       "                       min_weight_fraction_leaf=0.0, presort='deprecated',\n",
       "                       random_state=200, splitter='best')"
      ]
     },
     "execution_count": 135,
     "metadata": {},
     "output_type": "execute_result"
    }
   ],
   "source": [
    "import sklearn.tree as tree\n",
    "clf=tree.DecisionTreeClassifier(max_depth=3,random_state=200)\n",
    "clf.fit(X_train,y_train)"
   ]
  },
  {
   "cell_type": "code",
   "execution_count": 136,
   "metadata": {},
   "outputs": [
    {
     "data": {
      "text/plain": [
       "0.9647503373819163"
      ]
     },
     "execution_count": 136,
     "metadata": {},
     "output_type": "execute_result"
    }
   ],
   "source": [
    "clf.score(X_test,y_test)"
   ]
  },
  {
   "cell_type": "code",
   "execution_count": 137,
   "metadata": {},
   "outputs": [
    {
     "data": {
      "text/plain": [
       "array([[0.012707, 0.987293],\n",
       "       [0.012707, 0.987293],\n",
       "       [0.012707, 0.987293],\n",
       "       ...,\n",
       "       [1.      , 0.      ],\n",
       "       [0.012707, 0.987293],\n",
       "       [0.012707, 0.987293]])"
      ]
     },
     "execution_count": 137,
     "metadata": {},
     "output_type": "execute_result"
    }
   ],
   "source": [
    "prob=clf.predict_proba(X_test)\n",
    "prob"
   ]
  },
  {
   "cell_type": "code",
   "execution_count": 138,
   "metadata": {},
   "outputs": [
    {
     "data": {
      "text/plain": [
       "0.9599029281120595"
      ]
     },
     "execution_count": 138,
     "metadata": {},
     "output_type": "execute_result"
    }
   ],
   "source": [
    "#Area Under the curve\n",
    "import sklearn.metrics as metrics\n",
    "metrics.roc_auc_score(y_test,prob[:,1])"
   ]
  },
  {
   "cell_type": "code",
   "execution_count": 139,
   "metadata": {},
   "outputs": [],
   "source": [
    "import pydotplus\n",
    "os.environ[\"PATH\"] += os.pathsep + 'C:/Program Files (x86)/Graphviz2.38/bin/'\n",
    "dot_data = tree.export_graphviz(clf, out_file=None, \n",
    "                         feature_names=X.columns,  \n",
    "                         class_names=[\"0\",\"1\"],  \n",
    "                         filled=True, rounded=True,  \n",
    "                       proportion=True)\n",
    "graph = pydotplus.graph_from_dot_data(dot_data) "
   ]
  },
  {
   "cell_type": "code",
   "execution_count": 140,
   "metadata": {},
   "outputs": [
    {
     "data": {
      "image/png": "[encoded data removed]",
      "text/plain": [
       "<IPython.core.display.Image object>"
      ]
     },
     "execution_count": 140,
     "metadata": {},
     "output_type": "execute_result"
    }
   ],
   "source": [
    "from IPython.display import Image\n",
    "Image(graph.create_png())"
   ]
  },
  {
   "cell_type": "code",
   "execution_count": 141,
   "metadata": {},
   "outputs": [
    {
     "data": {
      "text/plain": [
       "True"
      ]
     },
     "execution_count": 141,
     "metadata": {},
     "output_type": "execute_result"
    }
   ],
   "source": [
    "graph.write_jpeg(\"treeLC.jpeg\")"
   ]
  },
  {
   "cell_type": "code",
   "execution_count": 142,
   "metadata": {},
   "outputs": [
    {
     "data": {
      "text/plain": [
       "count    92624.000000\n",
       "mean       152.242340\n",
       "std        747.022661\n",
       "min          0.000000\n",
       "25%          0.000000\n",
       "50%          0.000000\n",
       "75%          0.000000\n",
       "max      30863.710000\n",
       "Name: recoveries, dtype: float64"
      ]
     },
     "execution_count": 142,
     "metadata": {},
     "output_type": "execute_result"
    }
   ],
   "source": [
    "df['recoveries'].describe()"
   ]
  },
  {
   "cell_type": "code",
   "execution_count": 143,
   "metadata": {},
   "outputs": [
    {
     "data": {
      "text/plain": [
       "0         540.05\n",
       "1         812.99\n",
       "2         581.02\n",
       "3        1282.00\n",
       "4           0.00\n",
       "          ...   \n",
       "92619    1202.66\n",
       "92620       0.00\n",
       "92621       0.00\n",
       "92622       0.00\n",
       "92623       0.00\n",
       "Name: recoveries, Length: 92624, dtype: float64"
      ]
     },
     "execution_count": 143,
     "metadata": {},
     "output_type": "execute_result"
    }
   ],
   "source": [
    "df['recoveries']"
   ]
  },
  {
   "cell_type": "code",
   "execution_count": 144,
   "metadata": {},
   "outputs": [],
   "source": [
    "features=['loan_status','recoveries','last_fico_range_low','last_fico_range_high','collection_recovery_fee','total_rec_prncp','last_pymnt_amnt','total_pymnt_inv','debt_settlement_flag','funded_amnt','total_pymnt','total_rec_late_fee','int_rate','total_rev_hi_lim','funded_amnt_inv','installment','loan_amnt']"
   ]
  },
  {
   "cell_type": "code",
   "execution_count": 145,
   "metadata": {},
   "outputs": [
    {
     "data": {
      "text/plain": [
       "['loan_status',\n",
       " 'recoveries',\n",
       " 'last_fico_range_low',\n",
       " 'last_fico_range_high',\n",
       " 'collection_recovery_fee',\n",
       " 'total_rec_prncp',\n",
       " 'last_pymnt_amnt',\n",
       " 'total_pymnt_inv',\n",
       " 'debt_settlement_flag',\n",
       " 'funded_amnt',\n",
       " 'total_pymnt',\n",
       " 'total_rec_late_fee',\n",
       " 'int_rate',\n",
       " 'total_rev_hi_lim',\n",
       " 'funded_amnt_inv',\n",
       " 'installment',\n",
       " 'loan_amnt']"
      ]
     },
     "execution_count": 145,
     "metadata": {},
     "output_type": "execute_result"
    }
   ],
   "source": [
    "features"
   ]
  },
  {
   "cell_type": "code",
   "execution_count": 146,
   "metadata": {},
   "outputs": [],
   "source": [
    "df=df[features]"
   ]
  },
  {
   "cell_type": "code",
   "execution_count": 147,
   "metadata": {},
   "outputs": [
    {
     "data": {
      "text/html": [
       "<div>\n",
       "<style scoped>\n",
       "    .dataframe tbody tr th:only-of-type {\n",
       "        vertical-align: middle;\n",
       "    }\n",
       "\n",
       "    .dataframe tbody tr th {\n",
       "        vertical-align: top;\n",
       "    }\n",
       "\n",
       "    .dataframe thead th {\n",
       "        text-align: right;\n",
       "    }\n",
       "</style>\n",
       "<table border=\"1\" class=\"dataframe\">\n",
       "  <thead>\n",
       "    <tr style=\"text-align: right;\">\n",
       "      <th></th>\n",
       "      <th>loan_status</th>\n",
       "      <th>recoveries</th>\n",
       "      <th>last_fico_range_low</th>\n",
       "      <th>last_fico_range_high</th>\n",
       "      <th>collection_recovery_fee</th>\n",
       "      <th>total_rec_prncp</th>\n",
       "      <th>last_pymnt_amnt</th>\n",
       "      <th>total_pymnt_inv</th>\n",
       "      <th>debt_settlement_flag</th>\n",
       "      <th>funded_amnt</th>\n",
       "      <th>total_pymnt</th>\n",
       "      <th>total_rec_late_fee</th>\n",
       "      <th>int_rate</th>\n",
       "      <th>total_rev_hi_lim</th>\n",
       "      <th>funded_amnt_inv</th>\n",
       "      <th>installment</th>\n",
       "      <th>loan_amnt</th>\n",
       "    </tr>\n",
       "  </thead>\n",
       "  <tbody>\n",
       "    <tr>\n",
       "      <th>0</th>\n",
       "      <td>0</td>\n",
       "      <td>540.05</td>\n",
       "      <td>605</td>\n",
       "      <td>609</td>\n",
       "      <td>97.2090</td>\n",
       "      <td>1523.26</td>\n",
       "      <td>239.21</td>\n",
       "      <td>2937.50</td>\n",
       "      <td>0</td>\n",
       "      <td>7000</td>\n",
       "      <td>2937.50000</td>\n",
       "      <td>0.0</td>\n",
       "      <td>13.99</td>\n",
       "      <td>7100</td>\n",
       "      <td>7000</td>\n",
       "      <td>239.21</td>\n",
       "      <td>7000</td>\n",
       "    </tr>\n",
       "    <tr>\n",
       "      <th>1</th>\n",
       "      <td>0</td>\n",
       "      <td>812.99</td>\n",
       "      <td>510</td>\n",
       "      <td>514</td>\n",
       "      <td>146.3382</td>\n",
       "      <td>2368.19</td>\n",
       "      <td>205.04</td>\n",
       "      <td>3913.07</td>\n",
       "      <td>0</td>\n",
       "      <td>6000</td>\n",
       "      <td>3913.07000</td>\n",
       "      <td>0.0</td>\n",
       "      <td>13.99</td>\n",
       "      <td>23700</td>\n",
       "      <td>6000</td>\n",
       "      <td>205.04</td>\n",
       "      <td>6000</td>\n",
       "    </tr>\n",
       "    <tr>\n",
       "      <th>2</th>\n",
       "      <td>0</td>\n",
       "      <td>581.02</td>\n",
       "      <td>605</td>\n",
       "      <td>609</td>\n",
       "      <td>104.5836</td>\n",
       "      <td>0.00</td>\n",
       "      <td>0.00</td>\n",
       "      <td>581.02</td>\n",
       "      <td>0</td>\n",
       "      <td>4000</td>\n",
       "      <td>581.02000</td>\n",
       "      <td>0.0</td>\n",
       "      <td>12.29</td>\n",
       "      <td>12400</td>\n",
       "      <td>4000</td>\n",
       "      <td>133.42</td>\n",
       "      <td>4000</td>\n",
       "    </tr>\n",
       "    <tr>\n",
       "      <th>3</th>\n",
       "      <td>0</td>\n",
       "      <td>1282.00</td>\n",
       "      <td>615</td>\n",
       "      <td>619</td>\n",
       "      <td>230.7600</td>\n",
       "      <td>9309.82</td>\n",
       "      <td>400.24</td>\n",
       "      <td>12880.77</td>\n",
       "      <td>1</td>\n",
       "      <td>12000</td>\n",
       "      <td>12880.77000</td>\n",
       "      <td>0.0</td>\n",
       "      <td>12.29</td>\n",
       "      <td>16700</td>\n",
       "      <td>12000</td>\n",
       "      <td>400.24</td>\n",
       "      <td>12000</td>\n",
       "    </tr>\n",
       "    <tr>\n",
       "      <th>4</th>\n",
       "      <td>1</td>\n",
       "      <td>0.00</td>\n",
       "      <td>730</td>\n",
       "      <td>734</td>\n",
       "      <td>0.0000</td>\n",
       "      <td>2500.00</td>\n",
       "      <td>1230.95</td>\n",
       "      <td>3122.88</td>\n",
       "      <td>0</td>\n",
       "      <td>2500</td>\n",
       "      <td>3122.87703</td>\n",
       "      <td>0.0</td>\n",
       "      <td>17.86</td>\n",
       "      <td>16100</td>\n",
       "      <td>2500</td>\n",
       "      <td>90.21</td>\n",
       "      <td>2500</td>\n",
       "    </tr>\n",
       "  </tbody>\n",
       "</table>\n",
       "</div>"
      ],
      "text/plain": [
       "   loan_status  recoveries  last_fico_range_low  last_fico_range_high  \\\n",
       "0            0      540.05                  605                   609   \n",
       "1            0      812.99                  510                   514   \n",
       "2            0      581.02                  605                   609   \n",
       "3            0     1282.00                  615                   619   \n",
       "4            1        0.00                  730                   734   \n",
       "\n",
       "   collection_recovery_fee  total_rec_prncp  last_pymnt_amnt  total_pymnt_inv  \\\n",
       "0                  97.2090          1523.26           239.21          2937.50   \n",
       "1                 146.3382          2368.19           205.04          3913.07   \n",
       "2                 104.5836             0.00             0.00           581.02   \n",
       "3                 230.7600          9309.82           400.24         12880.77   \n",
       "4                   0.0000          2500.00          1230.95          3122.88   \n",
       "\n",
       "   debt_settlement_flag  funded_amnt  total_pymnt  total_rec_late_fee  \\\n",
       "0                     0         7000   2937.50000                 0.0   \n",
       "1                     0         6000   3913.07000                 0.0   \n",
       "2                     0         4000    581.02000                 0.0   \n",
       "3                     1        12000  12880.77000                 0.0   \n",
       "4                     0         2500   3122.87703                 0.0   \n",
       "\n",
       "   int_rate  total_rev_hi_lim  funded_amnt_inv  installment  loan_amnt  \n",
       "0     13.99              7100             7000       239.21       7000  \n",
       "1     13.99             23700             6000       205.04       6000  \n",
       "2     12.29             12400             4000       133.42       4000  \n",
       "3     12.29             16700            12000       400.24      12000  \n",
       "4     17.86             16100             2500        90.21       2500  "
      ]
     },
     "execution_count": 147,
     "metadata": {},
     "output_type": "execute_result"
    }
   ],
   "source": [
    "df.head()"
   ]
  },
  {
   "cell_type": "code",
   "execution_count": 148,
   "metadata": {},
   "outputs": [
    {
     "data": {
      "text/plain": [
       "count    92624.000000\n",
       "mean       152.242340\n",
       "std        747.022661\n",
       "min          0.000000\n",
       "25%          0.000000\n",
       "50%          0.000000\n",
       "75%          0.000000\n",
       "max      30863.710000\n",
       "Name: recoveries, dtype: float64"
      ]
     },
     "execution_count": 148,
     "metadata": {},
     "output_type": "execute_result"
    }
   ],
   "source": [
    "df['recoveries'].describe()"
   ]
  },
  {
   "cell_type": "code",
   "execution_count": 149,
   "metadata": {},
   "outputs": [],
   "source": [
    "train=df.sample(frac=0.80,random_state=1)\n",
    "test=df.drop(train.index)"
   ]
  },
  {
   "cell_type": "code",
   "execution_count": 150,
   "metadata": {},
   "outputs": [
    {
     "data": {
      "text/plain": [
       "Index(['loan_status', 'recoveries', 'last_fico_range_low',\n",
       "       'last_fico_range_high', 'collection_recovery_fee', 'total_rec_prncp',\n",
       "       'last_pymnt_amnt', 'total_pymnt_inv', 'debt_settlement_flag',\n",
       "       'funded_amnt', 'total_pymnt', 'total_rec_late_fee', 'int_rate',\n",
       "       'total_rev_hi_lim', 'funded_amnt_inv', 'installment', 'loan_amnt'],\n",
       "      dtype='object')"
      ]
     },
     "execution_count": 150,
     "metadata": {},
     "output_type": "execute_result"
    }
   ],
   "source": [
    "train.columns"
   ]
  },
  {
   "cell_type": "code",
   "execution_count": 151,
   "metadata": {},
   "outputs": [
    {
     "data": {
      "text/plain": [
       "0    72361\n",
       "1     1738\n",
       "Name: debt_settlement_flag, dtype: int64"
      ]
     },
     "execution_count": 151,
     "metadata": {},
     "output_type": "execute_result"
    }
   ],
   "source": [
    "train['debt_settlement_flag'].value_counts()"
   ]
  },
  {
   "cell_type": "code",
   "execution_count": 152,
   "metadata": {},
   "outputs": [
    {
     "name": "stderr",
     "output_type": "stream",
     "text": [
      "D:\\ANACONDA\\lib\\site-packages\\statsmodels\\genmod\\families\\links.py:190: RuntimeWarning: overflow encountered in exp\n",
      "  t = np.exp(-z)\n",
      "D:\\ANACONDA\\lib\\site-packages\\statsmodels\\genmod\\families\\family.py:889: RuntimeWarning: invalid value encountered in true_divide\n",
      "  endog_mu = self._clean(endog / mu)\n",
      "D:\\ANACONDA\\lib\\site-packages\\statsmodels\\genmod\\families\\family.py:890: RuntimeWarning: divide by zero encountered in true_divide\n",
      "  n_endog_mu = self._clean((1. - endog) / (1. - mu))\n",
      "D:\\ANACONDA\\lib\\site-packages\\statsmodels\\genmod\\families\\family.py:889: RuntimeWarning: divide by zero encountered in true_divide\n",
      "  endog_mu = self._clean(endog / mu)\n",
      "D:\\ANACONDA\\lib\\site-packages\\statsmodels\\genmod\\families\\family.py:890: RuntimeWarning: invalid value encountered in true_divide\n",
      "  n_endog_mu = self._clean((1. - endog) / (1. - mu))\n"
     ]
    },
    {
     "name": "stdout",
     "output_type": "stream",
     "text": [
      "                 Generalized Linear Model Regression Results                  \n",
      "==============================================================================\n",
      "Dep. Variable:            loan_status   No. Observations:                74099\n",
      "Model:                            GLM   Df Residuals:                    74084\n",
      "Model Family:                Binomial   Df Model:                           14\n",
      "Link Function:                  logit   Scale:                          1.0000\n",
      "Method:                          IRLS   Log-Likelihood:                    nan\n",
      "Date:                Mon, 01 Jun 2020   Deviance:                          nan\n",
      "Time:                        10:51:45   Pearson chi2:                 1.29e+18\n",
      "No. Iterations:                   100                                         \n",
      "Covariance Type:            nonrobust                                         \n",
      "===========================================================================================\n",
      "                              coef    std err          z      P>|z|      [0.025      0.975]\n",
      "-------------------------------------------------------------------------------------------\n",
      "Intercept               -2.321e+15   3.33e+06  -6.97e+08      0.000   -2.32e+15   -2.32e+15\n",
      "recoveries                3.48e+11   3449.468   1.01e+08      0.000    3.48e+11    3.48e+11\n",
      "last_fico_range_low     -2.001e+11   3469.505  -5.77e+07      0.000      -2e+11      -2e+11\n",
      "last_fico_range_high     4.029e+12   5946.304   6.78e+08      0.000    4.03e+12    4.03e+12\n",
      "collection_recovery_fee  1.222e+12    1.9e+04   6.42e+07      0.000    1.22e+12    1.22e+12\n",
      "total_rec_prncp          9.303e+11    601.120   1.55e+09      0.000     9.3e+11     9.3e+11\n",
      "last_pymnt_amnt          2.347e+11     86.013   2.73e+09      0.000    2.35e+11    2.35e+11\n",
      "total_pymnt_inv         -1.292e+11   1.01e+04  -1.28e+07      0.000   -1.29e+11   -1.29e+11\n",
      "debt_settlement_flag    -9.862e+14   1.92e+06  -5.13e+08      0.000   -9.86e+14   -9.86e+14\n",
      "funded_amnt             -3.459e+11    365.854  -9.46e+08      0.000   -3.46e+11   -3.46e+11\n",
      "total_pymnt             -2.719e+11   1.01e+04  -2.68e+07      0.000   -2.72e+11   -2.72e+11\n",
      "total_rec_late_fee       -8.67e+11    2.3e+04  -3.77e+07      0.000   -8.67e+11   -8.67e+11\n",
      "int_rate                 1.817e+13   1.28e+05   1.42e+08      0.000    1.82e+13    1.82e+13\n",
      "total_rev_hi_lim         7.501e+06      8.127   9.23e+05      0.000     7.5e+06     7.5e+06\n",
      "installment              7.901e+12   2.19e+04    3.6e+08      0.000     7.9e+12     7.9e+12\n",
      "loan_amnt               -3.459e+11    365.854  -9.46e+08      0.000   -3.46e+11   -3.46e+11\n",
      "===========================================================================================\n"
     ]
    },
    {
     "name": "stderr",
     "output_type": "stream",
     "text": [
      "D:\\ANACONDA\\lib\\site-packages\\statsmodels\\genmod\\families\\family.py:942: RuntimeWarning: divide by zero encountered in true_divide\n",
      "  special.gammaln(n - y + 1) + y * np.log(mu / (1 - mu)) +\n",
      "D:\\ANACONDA\\lib\\site-packages\\statsmodels\\genmod\\families\\family.py:942: RuntimeWarning: divide by zero encountered in log\n",
      "  special.gammaln(n - y + 1) + y * np.log(mu / (1 - mu)) +\n",
      "D:\\ANACONDA\\lib\\site-packages\\statsmodels\\genmod\\families\\family.py:942: RuntimeWarning: invalid value encountered in multiply\n",
      "  special.gammaln(n - y + 1) + y * np.log(mu / (1 - mu)) +\n",
      "D:\\ANACONDA\\lib\\site-packages\\statsmodels\\genmod\\families\\family.py:943: RuntimeWarning: divide by zero encountered in log\n",
      "  n * np.log(1 - mu)) * var_weights\n",
      "D:\\ANACONDA\\lib\\site-packages\\statsmodels\\genmod\\families\\family.py:943: RuntimeWarning: invalid value encountered in add\n",
      "  n * np.log(1 - mu)) * var_weights\n"
     ]
    }
   ],
   "source": [
    "glm2=smf.glm('loan_status~recoveries+last_fico_range_low+last_fico_range_high+collection_recovery_fee+total_rec_prncp+last_pymnt_amnt+total_pymnt_inv+debt_settlement_flag+funded_amnt+total_pymnt+total_rec_late_fee+int_rate+total_rev_hi_lim+installment+loan_amnt',data=train,family=sm.families.Binomial()).fit()\n",
    "print(glm2.summary())"
   ]
  },
  {
   "cell_type": "code",
   "execution_count": 153,
   "metadata": {},
   "outputs": [
    {
     "data": {
      "text/plain": [
       "7     0.0\n",
       "9     1.0\n",
       "15    1.0\n",
       "18    1.0\n",
       "27    1.0\n",
       "Name: prob, dtype: float64"
      ]
     },
     "execution_count": 153,
     "metadata": {},
     "output_type": "execute_result"
    }
   ],
   "source": [
    "test['prob']=glm2.predict(test)\n",
    "test['prob'].head()"
   ]
  },
  {
   "cell_type": "code",
   "execution_count": 154,
   "metadata": {},
   "outputs": [
    {
     "data": {
      "text/plain": [
       "0.9906088596559275"
      ]
     },
     "execution_count": 154,
     "metadata": {},
     "output_type": "execute_result"
    }
   ],
   "source": [
    "# AUC\n",
    "from sklearn import metrics\n",
    "metrics.roc_auc_score(test['loan_status'],test['prob'])"
   ]
  },
  {
   "cell_type": "code",
   "execution_count": 162,
   "metadata": {},
   "outputs": [],
   "source": [
    "#ROC\n",
    "fpr,tpr,thresholds=metrics.roc_curve(test['loan_status'],test['prob'])\n",
    "x,y=np.arange(0,1.1,0.1),np.arange(0,1.1,0.1)"
   ]
  },
  {
   "cell_type": "code",
   "execution_count": 163,
   "metadata": {},
   "outputs": [
    {
     "data": {
      "text/plain": [
       "Text(0.5, 1.0, 'ROC Curve')"
      ]
     },
     "execution_count": 163,
     "metadata": {},
     "output_type": "execute_result"
    },
    {
     "data": {
      "image/png": "[encoded data removed]",
      "text/plain": [
       "<Figure size 648x432 with 1 Axes>"
      ]
     },
     "metadata": {
      "needs_background": "light"
     },
     "output_type": "display_data"
    }
   ],
   "source": [
    "import matplotlib.pyplot as plt\n",
    "plt.plot(fpr,tpr)\n",
    "plt.plot(x,y,'b--')\n",
    "plt.title(\"ROC Curve\")"
   ]
  },
  {
   "cell_type": "code",
   "execution_count": 155,
   "metadata": {},
   "outputs": [
    {
     "data": {
      "text/plain": [
       "<matplotlib.axes._subplots.AxesSubplot at 0x1fc2c8e4188>"
      ]
     },
     "execution_count": 155,
     "metadata": {},
     "output_type": "execute_result"
    },
    {
     "data": {
      "image/png": "[encoded data removed]",
      "text/plain": [
       "<Figure size 648x432 with 1 Axes>"
      ]
     },
     "metadata": {
      "needs_background": "light"
     },
     "output_type": "display_data"
    }
   ],
   "source": [
    "plt.rcParams['figure.figsize'] = (9,6)\n",
    "df[\"recoveries\"].plot.density(logx = True)"
   ]
  },
  {
   "cell_type": "code",
   "execution_count": 165,
   "metadata": {},
   "outputs": [
    {
     "data": {
      "text/html": [
       "<div>\n",
       "<style scoped>\n",
       "    .dataframe tbody tr th:only-of-type {\n",
       "        vertical-align: middle;\n",
       "    }\n",
       "\n",
       "    .dataframe tbody tr th {\n",
       "        vertical-align: top;\n",
       "    }\n",
       "\n",
       "    .dataframe thead th {\n",
       "        text-align: right;\n",
       "    }\n",
       "</style>\n",
       "<table border=\"1\" class=\"dataframe\">\n",
       "  <thead>\n",
       "    <tr style=\"text-align: right;\">\n",
       "      <th></th>\n",
       "      <th>recoveries</th>\n",
       "    </tr>\n",
       "    <tr>\n",
       "      <th>loan_status</th>\n",
       "      <th></th>\n",
       "    </tr>\n",
       "  </thead>\n",
       "  <tbody>\n",
       "    <tr>\n",
       "      <th>0</th>\n",
       "      <td>1032.910527</td>\n",
       "    </tr>\n",
       "    <tr>\n",
       "      <th>1</th>\n",
       "      <td>0.000000</td>\n",
       "    </tr>\n",
       "  </tbody>\n",
       "</table>\n",
       "</div>"
      ],
      "text/plain": [
       "              recoveries\n",
       "loan_status             \n",
       "0            1032.910527\n",
       "1               0.000000"
      ]
     },
     "execution_count": 165,
     "metadata": {},
     "output_type": "execute_result"
    }
   ],
   "source": [
    "df.groupby('loan_status').agg({'recoveries':'mean'})"
   ]
  },
  {
   "cell_type": "code",
   "execution_count": 157,
   "metadata": {},
   "outputs": [],
   "source": [
    "# indexNames = dfObj[ (dfObj['Age'] >= 30) & (dfObj['Age'] <= 40) ].index\n",
    "# dfObj.drop(indexNames , inplace=True)"
   ]
  },
  {
   "cell_type": "code",
   "execution_count": 161,
   "metadata": {},
   "outputs": [
    {
     "data": {
      "text/plain": [
       "<matplotlib.axes._subplots.AxesSubplot at 0x1fc20335f48>"
      ]
     },
     "execution_count": 161,
     "metadata": {},
     "output_type": "execute_result"
    },
    {
     "data": {
      "image/png": "[encoded data removed]",
      "text/plain": [
       "<Figure size 648x432 with 1 Axes>"
      ]
     },
     "metadata": {
      "needs_background": "light"
     },
     "output_type": "display_data"
    }
   ],
   "source": [
    "df.groupby('loan_status').agg({'total_rec_prncp':'mean'}).plot.bar()\n"
   ]
  },
  {
   "cell_type": "code",
   "execution_count": 167,
   "metadata": {},
   "outputs": [],
   "source": [
    "X=df.drop(\"loan_status\",axis=1)"
   ]
  },
  {
   "cell_type": "code",
   "execution_count": 168,
   "metadata": {},
   "outputs": [],
   "source": [
    "y=df['loan_status']"
   ]
  },
  {
   "cell_type": "code",
   "execution_count": 169,
   "metadata": {},
   "outputs": [],
   "source": [
    "import sklearn.model_selection as model_selection\n",
    "X_train,X_test,y_train,y_test=model_selection.train_test_split(X,y,test_size=0.2,random_state=1)"
   ]
  },
  {
   "cell_type": "code",
   "execution_count": 170,
   "metadata": {},
   "outputs": [],
   "source": [
    "#Bagging Classifier: Bootstrap sampling with DT as base learner\n",
    "from sklearn.ensemble import BaggingClassifier\n",
    "from sklearn.tree import DecisionTreeClassifier"
   ]
  },
  {
   "cell_type": "code",
   "execution_count": 171,
   "metadata": {},
   "outputs": [],
   "source": [
    "clf=BaggingClassifier(oob_score=True,n_jobs=-1,n_estimators=20,random_state=400,\n",
    "                      base_estimator=DecisionTreeClassifier())"
   ]
  },
  {
   "cell_type": "code",
   "execution_count": 172,
   "metadata": {},
   "outputs": [
    {
     "name": "stderr",
     "output_type": "stream",
     "text": [
      "D:\\ANACONDA\\lib\\site-packages\\sklearn\\ensemble\\_bagging.py:633: UserWarning: Some inputs do not have OOB scores. This probably means too few estimators were used to compute any reliable oob estimates.\n",
      "  warn(\"Some inputs do not have OOB scores. \"\n",
      "D:\\ANACONDA\\lib\\site-packages\\sklearn\\ensemble\\_bagging.py:638: RuntimeWarning: invalid value encountered in true_divide\n",
      "  predictions.sum(axis=1)[:, np.newaxis])\n"
     ]
    },
    {
     "data": {
      "text/plain": [
       "BaggingClassifier(base_estimator=DecisionTreeClassifier(ccp_alpha=0.0,\n",
       "                                                        class_weight=None,\n",
       "                                                        criterion='gini',\n",
       "                                                        max_depth=None,\n",
       "                                                        max_features=None,\n",
       "                                                        max_leaf_nodes=None,\n",
       "                                                        min_impurity_decrease=0.0,\n",
       "                                                        min_impurity_split=None,\n",
       "                                                        min_samples_leaf=1,\n",
       "                                                        min_samples_split=2,\n",
       "                                                        min_weight_fraction_leaf=0.0,\n",
       "                                                        presort='deprecated',\n",
       "                                                        random_state=None,\n",
       "                                                        splitter='best'),\n",
       "                  bootstrap=True, bootstrap_features=False, max_features=1.0,\n",
       "                  max_samples=1.0, n_estimators=20, n_jobs=-1, oob_score=True,\n",
       "                  random_state=400, verbose=0, warm_start=False)"
      ]
     },
     "execution_count": 172,
     "metadata": {},
     "output_type": "execute_result"
    }
   ],
   "source": [
    "clf.fit(X_train,y_train)"
   ]
  },
  {
   "cell_type": "code",
   "execution_count": 173,
   "metadata": {},
   "outputs": [
    {
     "data": {
      "text/plain": [
       "0.9968151147098515"
      ]
     },
     "execution_count": 173,
     "metadata": {},
     "output_type": "execute_result"
    }
   ],
   "source": [
    "#Average number of correct predictions\n",
    "clf.score(X_test,y_test)"
   ]
  },
  {
   "cell_type": "code",
   "execution_count": 174,
   "metadata": {},
   "outputs": [
    {
     "name": "stdout",
     "output_type": "stream",
     "text": [
      "For n_estimators = 100\n",
      "OOB score is 0.9970175036100353\n",
      "************************\n",
      "For n_estimators = 120\n",
      "OOB score is 0.9969635217749228\n",
      "************************\n",
      "For n_estimators = 140\n",
      "OOB score is 0.9969635217749228\n",
      "************************\n",
      "For n_estimators = 160\n",
      "OOB score is 0.9969230353985884\n",
      "************************\n",
      "For n_estimators = 180\n",
      "OOB score is 0.9969500263161446\n",
      "************************\n"
     ]
    }
   ],
   "source": [
    "for w in range(100,200,20):\n",
    "    clf=BaggingClassifier(oob_score=True,n_jobs=-1,n_estimators=w,random_state=400,\n",
    "                          base_estimator=DecisionTreeClassifier())\n",
    "    clf.fit(X_train,y_train)\n",
    "    oob=clf.oob_score_\n",
    "    print('For n_estimators = '+str(w))\n",
    "    print('OOB score is '+str(oob))\n",
    "    print('************************')"
   ]
  },
  {
   "cell_type": "code",
   "execution_count": 175,
   "metadata": {},
   "outputs": [
    {
     "data": {
      "text/plain": [
       "BaggingClassifier(base_estimator=DecisionTreeClassifier(ccp_alpha=0.0,\n",
       "                                                        class_weight=None,\n",
       "                                                        criterion='gini',\n",
       "                                                        max_depth=None,\n",
       "                                                        max_features=None,\n",
       "                                                        max_leaf_nodes=None,\n",
       "                                                        min_impurity_decrease=0.0,\n",
       "                                                        min_impurity_split=None,\n",
       "                                                        min_samples_leaf=1,\n",
       "                                                        min_samples_split=2,\n",
       "                                                        min_weight_fraction_leaf=0.0,\n",
       "                                                        presort='deprecated',\n",
       "                                                        random_state=None,\n",
       "                                                        splitter='best'),\n",
       "                  bootstrap=True, bootstrap_features=False, max_features=1.0,\n",
       "                  max_samples=1.0, n_estimators=100, n_jobs=-1, oob_score=True,\n",
       "                  random_state=400, verbose=0, warm_start=False)"
      ]
     },
     "execution_count": 175,
     "metadata": {},
     "output_type": "execute_result"
    }
   ],
   "source": [
    "clf=BaggingClassifier(oob_score=True,n_jobs=-1,n_estimators=100,random_state=400,\n",
    "                      base_estimator=DecisionTreeClassifier())\n",
    "clf.fit(X_train,y_train)"
   ]
  },
  {
   "cell_type": "code",
   "execution_count": 176,
   "metadata": {},
   "outputs": [
    {
     "data": {
      "text/plain": [
       "0.9964372469635627"
      ]
     },
     "execution_count": 176,
     "metadata": {},
     "output_type": "execute_result"
    }
   ],
   "source": [
    "clf.score(X_test,y_test) "
   ]
  },
  {
   "cell_type": "code",
   "execution_count": null,
   "metadata": {},
   "outputs": [],
   "source": [
    "#boosting"
   ]
  },
  {
   "cell_type": "code",
   "execution_count": 177,
   "metadata": {},
   "outputs": [
    {
     "data": {
      "text/plain": [
       "AdaBoostClassifier(algorithm='SAMME.R', base_estimator=None, learning_rate=1.0,\n",
       "                   n_estimators=50, random_state=400)"
      ]
     },
     "execution_count": 177,
     "metadata": {},
     "output_type": "execute_result"
    }
   ],
   "source": [
    "from sklearn.ensemble import AdaBoostClassifier\n",
    "clf=AdaBoostClassifier(n_estimators=50,random_state=400)\n",
    "clf.fit(X_train,y_train)"
   ]
  },
  {
   "cell_type": "code",
   "execution_count": 178,
   "metadata": {},
   "outputs": [
    {
     "data": {
      "text/plain": [
       "0.9935762483130904"
      ]
     },
     "execution_count": 178,
     "metadata": {},
     "output_type": "execute_result"
    }
   ],
   "source": [
    "clf.score(X_test,y_test)"
   ]
  },
  {
   "cell_type": "code",
   "execution_count": 179,
   "metadata": {},
   "outputs": [
    {
     "data": {
      "text/plain": [
       "GradientBoostingClassifier(ccp_alpha=0.0, criterion='friedman_mse', init=None,\n",
       "                           learning_rate=0.1, loss='deviance', max_depth=3,\n",
       "                           max_features=None, max_leaf_nodes=None,\n",
       "                           min_impurity_decrease=0.0, min_impurity_split=None,\n",
       "                           min_samples_leaf=1, min_samples_split=2,\n",
       "                           min_weight_fraction_leaf=0.0, n_estimators=80,\n",
       "                           n_iter_no_change=None, presort='deprecated',\n",
       "                           random_state=400, subsample=1.0, tol=0.0001,\n",
       "                           validation_fraction=0.1, verbose=0,\n",
       "                           warm_start=False)"
      ]
     },
     "execution_count": 179,
     "metadata": {},
     "output_type": "execute_result"
    }
   ],
   "source": [
    "from sklearn.ensemble import GradientBoostingClassifier\n",
    "clf=GradientBoostingClassifier(n_estimators=80,random_state=400)\n",
    "clf.fit(X_train,y_train)"
   ]
  },
  {
   "cell_type": "code",
   "execution_count": 180,
   "metadata": {},
   "outputs": [
    {
     "data": {
      "text/plain": [
       "0.9937381916329284"
      ]
     },
     "execution_count": 180,
     "metadata": {},
     "output_type": "execute_result"
    }
   ],
   "source": [
    "clf.score(X_test,y_test)"
   ]
  },
  {
   "cell_type": "code",
   "execution_count": 181,
   "metadata": {},
   "outputs": [
    {
     "data": {
      "text/plain": [
       "GridSearchCV(cv=3, error_score=nan,\n",
       "             estimator=GradientBoostingClassifier(ccp_alpha=0.0,\n",
       "                                                  criterion='friedman_mse',\n",
       "                                                  init=None, learning_rate=0.1,\n",
       "                                                  loss='deviance', max_depth=3,\n",
       "                                                  max_features=None,\n",
       "                                                  max_leaf_nodes=None,\n",
       "                                                  min_impurity_decrease=0.0,\n",
       "                                                  min_impurity_split=None,\n",
       "                                                  min_samples_leaf=1,\n",
       "                                                  min_samples_split=2,\n",
       "                                                  min_weight_fraction_leaf=0.0,\n",
       "                                                  n_estimators=80,\n",
       "                                                  n_iter_no_change=None,\n",
       "                                                  presort='deprecated',\n",
       "                                                  random_state=400,\n",
       "                                                  subsample=1.0, tol=0.0001,\n",
       "                                                  validation_fraction=0.1,\n",
       "                                                  verbose=0, warm_start=False),\n",
       "             iid='deprecated', n_jobs=None,\n",
       "             param_grid={'n_estimators': [60, 80, 100, 120, 140, 160]},\n",
       "             pre_dispatch='2*n_jobs', refit=True, return_train_score=False,\n",
       "             scoring=None, verbose=0)"
      ]
     },
     "execution_count": 181,
     "metadata": {},
     "output_type": "execute_result"
    }
   ],
   "source": [
    "from sklearn.model_selection import GridSearchCV\n",
    "mod=GridSearchCV(clf,param_grid={'n_estimators':[60,80,100,120,140,160]},cv=3) \n",
    "mod.fit(X_train,y_train)"
   ]
  },
  {
   "cell_type": "code",
   "execution_count": 182,
   "metadata": {},
   "outputs": [
    {
     "data": {
      "text/plain": [
       "GradientBoostingClassifier(ccp_alpha=0.0, criterion='friedman_mse', init=None,\n",
       "                           learning_rate=0.1, loss='deviance', max_depth=3,\n",
       "                           max_features=None, max_leaf_nodes=None,\n",
       "                           min_impurity_decrease=0.0, min_impurity_split=None,\n",
       "                           min_samples_leaf=1, min_samples_split=2,\n",
       "                           min_weight_fraction_leaf=0.0, n_estimators=160,\n",
       "                           n_iter_no_change=None, presort='deprecated',\n",
       "                           random_state=400, subsample=1.0, tol=0.0001,\n",
       "                           validation_fraction=0.1, verbose=0,\n",
       "                           warm_start=False)"
      ]
     },
     "execution_count": 182,
     "metadata": {},
     "output_type": "execute_result"
    }
   ],
   "source": [
    "mod.best_estimator_"
   ]
  },
  {
   "cell_type": "code",
   "execution_count": 183,
   "metadata": {},
   "outputs": [
    {
     "data": {
      "text/plain": [
       "GradientBoostingClassifier(ccp_alpha=0.0, criterion='friedman_mse', init=None,\n",
       "                           learning_rate=0.1, loss='deviance', max_depth=3,\n",
       "                           max_features=None, max_leaf_nodes=None,\n",
       "                           min_impurity_decrease=0.0, min_impurity_split=None,\n",
       "                           min_samples_leaf=1, min_samples_split=2,\n",
       "                           min_weight_fraction_leaf=0.0, n_estimators=160,\n",
       "                           n_iter_no_change=None, presort='deprecated',\n",
       "                           random_state=400, subsample=1.0, tol=0.0001,\n",
       "                           validation_fraction=0.1, verbose=0,\n",
       "                           warm_start=False)"
      ]
     },
     "execution_count": 183,
     "metadata": {},
     "output_type": "execute_result"
    }
   ],
   "source": [
    "clf=GradientBoostingClassifier(n_estimators=160,random_state=400)\n",
    "clf.fit(X_train,y_train)"
   ]
  },
  {
   "cell_type": "code",
   "execution_count": 184,
   "metadata": {},
   "outputs": [
    {
     "data": {
      "text/plain": [
       "0.9966531713900135"
      ]
     },
     "execution_count": 184,
     "metadata": {},
     "output_type": "execute_result"
    }
   ],
   "source": [
    "clf.score(X_test,y_test)"
   ]
  }
 ],
 "metadata": {
  "kernelspec": {
   "display_name": "Python 3",
   "language": "python",
   "name": "python3"
  },
  "language_info": {
   "codemirror_mode": {
    "name": "ipython",
    "version": 3
   },
   "file_extension": ".py",
   "mimetype": "text/x-python",
   "name": "python",
   "nbconvert_exporter": "python",
   "pygments_lexer": "ipython3",
   "version": "3.7.4"
  }
 },
 "nbformat": 4,
 "nbformat_minor": 2
}
